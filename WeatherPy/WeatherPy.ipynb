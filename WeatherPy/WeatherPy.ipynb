{
 "cells": [
  {
   "cell_type": "markdown",
   "metadata": {},
   "source": [
    "# WeatherPy\n",
    "----\n",
    "\n",
    "#### Note\n",
    "* Instructions have been included for each segment. You do not have to follow them exactly, but they are included to help you think through the steps."
   ]
  },
  {
   "cell_type": "code",
   "execution_count": 4,
   "metadata": {},
   "outputs": [],
   "source": [
    "import matplotlib.pyplot as plt\n",
    "import pandas as pd\n",
    "import numpy as np\n",
    "import requests\n",
    "import time\n",
    "from scipy.stats import linregress\n",
    "from datetime import datetime\n",
    "\n",
    "from api_keys import weather_api_key\n",
    "\n",
    "# Incorporated citipy to determine city based on latitude and longitude\n",
    "from citipy import citipy\n",
    "\n",
    "# Output File (CSV)\n",
    "output_data_file = \"output_data/cities.csv\"\n",
    "\n",
    "# Range of latitudes and longitudes\n",
    "lat_range = (-90, 90)\n",
    "lng_range = (-180, 180)"
   ]
  },
  {
   "cell_type": "markdown",
   "metadata": {},
   "source": [
    "## Generate Cities List"
   ]
  },
  {
   "cell_type": "code",
   "execution_count": 5,
   "metadata": {},
   "outputs": [
    {
     "data": {
      "text/plain": [
       "620"
      ]
     },
     "execution_count": 5,
     "metadata": {},
     "output_type": "execute_result"
    }
   ],
   "source": [
    "# Create a list for holding the cities.\n",
    "lat_lngs = []\n",
    "cities = []\n",
    "\n",
    "# Create a set of random lat and lng combinations\n",
    "lats = np.random.uniform(lat_range[0], lat_range[1], size=1500)\n",
    "lngs = np.random.uniform(lng_range[0], lng_range[1], size=1500)\n",
    "lat_lngs = zip(lats, lngs)\n",
    "\n",
    "# Add the latitudes and longitudes to a list.\n",
    "#coordinates = list(lat_lngs)\n",
    "\n",
    "# Identify nearest city for each lat, lng combination\n",
    "for lat_lng in lat_lngs:\n",
    "    city = citipy.nearest_city(lat_lng[0], lat_lng[1]).city_name\n",
    "        \n",
    "    # If the city is unique, then add it to a our cities list\n",
    "    if city not in cities:\n",
    "           cities.append(city)\n",
    "        \n",
    "# Print the city count to confirm sufficient count\n",
    "len(cities)"
   ]
  },
  {
   "cell_type": "markdown",
   "metadata": {},
   "source": [
    "### Perform API Calls\n",
    "* Perform a weather check on each city using a series of successive API calls.\n",
    "* Include a print log of each city as it'sbeing processed (with the city number and city name).\n"
   ]
  },
  {
   "cell_type": "code",
   "execution_count": 6,
   "metadata": {},
   "outputs": [
    {
     "name": "stdout",
     "output_type": "stream",
     "text": [
      "Record located broken hill\n",
      "Record located tingo maria\n",
      "Record located biskamzha\n",
      "Record located faanui\n",
      "Record located kavaratti\n",
      "Record located bubaque\n",
      "Record located port lincoln\n",
      "Record located touho\n",
      "Record located san cristobal\n",
      "Record located albany\n",
      "Record located cape town\n",
      "Record located aksu\n",
      "Record located katsuura\n",
      "Record located kita\n",
      "Record located cabo san lucas\n",
      "Record located rikitea\n",
      "Record located ushuaia\n",
      "Record located bathsheba\n",
      "Record located hermanus\n",
      "Record located san patricio\n",
      "Record located saint-denis\n",
      "taolanaro not found\n",
      "Record located butaritari\n",
      "Record located bluff\n",
      "Record located dikson\n",
      "Record located sitka\n",
      "Record located tecolutilla\n",
      "Record located mehamn\n",
      "amderma not found\n",
      "Record located kodiak\n",
      "Record located pisco\n",
      "Record located ahipara\n",
      "Record located saint-augustin\n",
      "Record located atuona\n",
      "Record located punta arenas\n",
      "Record located san policarpo\n",
      "Record located new norfolk\n",
      "Record located pangnirtung\n",
      "Record located longyearbyen\n",
      "Record located kiunga\n",
      "Record located ponta do sol\n",
      "Record located tessalit\n",
      "marv dasht not found\n",
      "Record located sao filipe\n",
      "Record located mar del plata\n",
      "Record located sassandra\n",
      "Record located hobart\n",
      "Record located lompoc\n",
      "Record located cherskiy\n",
      "macaboboni not found\n",
      "Record located tual\n",
      "Record located civitavecchia\n",
      "nizhneyansk not found\n",
      "Record located tuktoyaktuk\n",
      "jabiru not found\n",
      "Record located topchanchi\n",
      "Record located kapaa\n",
      "Record located yemtsa\n",
      "Record located canavieiras\n",
      "Record located bethel\n",
      "Record located boundiali\n",
      "labutta not found\n",
      "Record located gulu\n",
      "Record located mahebourg\n",
      "Record located cidreira\n",
      "Record located hilo\n",
      "Record located dakar\n",
      "Record located lorvao\n",
      "Record located timmins\n",
      "Record located port macquarie\n",
      "Record located mitu\n",
      "Record located pevek\n",
      "Record located jamestown\n",
      "Record located talnakh\n",
      "Record located albanel\n",
      "Record located narsaq\n",
      "Record located vaini\n",
      "Record located vestmanna\n",
      "Record located abu kamal\n",
      "Record located barrow\n",
      "Record located puerto ayora\n",
      "Record located nikolskoye\n",
      "Record located mokolo\n",
      "Record located georgetown\n",
      "Record located thompson\n",
      "Record located laguna\n",
      "Record located kautokeino\n",
      "Record located port alfred\n",
      "Record located chokurdakh\n",
      "Record located nanortalik\n",
      "Record located busselton\n",
      "Record located zeya\n",
      "Record located antofagasta\n",
      "Record located nizhniy odes\n",
      "Record located odemira\n",
      "Record located esfahan\n",
      "Record located cooma\n",
      "Record located kaeo\n",
      "Record located coahuayana\n",
      "illoqqortoormiut not found\n",
      "Record located lavrentiya\n",
      "Record located jinchang\n",
      "Record located mahibadhoo\n",
      "Record located bambous virieux\n",
      "dien bien not found\n",
      "Record located provideniya\n",
      "Record located la rioja\n",
      "barentsburg not found\n",
      "Record located batemans bay\n",
      "Record located khatanga\n",
      "Record located vestmannaeyjar\n",
      "Record located shingu\n",
      "Record located kaitangata\n",
      "kamenskoye not found\n",
      "Record located bambanglipuro\n",
      "Record located ribeira grande\n",
      "Record located mataura\n",
      "Record located bengkulu\n",
      "Record located halifax\n",
      "samusu not found\n",
      "Record located lamont\n",
      "Record located tasiilaq\n",
      "Record located kuching\n",
      "Record located havoysund\n",
      "Record located saint george\n",
      "Record located ewa beach\n",
      "Record located bilibino\n",
      "Record located ambovombe\n",
      "Record located belaya gora\n",
      "Record located severo-kurilsk\n",
      "Record located alcaniz\n",
      "Record located landeck\n",
      "barawe not found\n",
      "Record located qaanaaq\n",
      "Record located nandi hills\n",
      "Record located lasa\n",
      "Record located angoram\n",
      "Record located bakel\n",
      "Record located guerrero negro\n",
      "Record located abu samrah\n",
      "Record located palmer\n",
      "Record located castro\n",
      "Record located hovd\n",
      "Record located biltine\n",
      "Record located hithadhoo\n",
      "saleaula not found\n",
      "Record located richards bay\n",
      "Record located saint-francois\n",
      "Record located sturgis\n",
      "Record located thunder bay\n",
      "Record located sola\n",
      "Record located omsukchan\n",
      "Record located saskylakh\n",
      "Record located tilichiki\n",
      "Record located souillac\n",
      "yanan not found\n",
      "Record located hamilton\n",
      "Record located vila velha\n",
      "Record located imbituva\n",
      "Record located niquero\n",
      "Record located sinnamary\n",
      "Record located torbay\n",
      "Record located kanniyakumari\n",
      "Record located vaitape\n",
      "Record located saint-philippe\n",
      "Record located aasiaat\n",
      "Record located kamenka\n",
      "Record located oussouye\n",
      "Record located yellowknife\n",
      "Record located kruisfontein\n",
      "Record located manggar\n",
      "Record located lamu\n",
      "Record located soe\n",
      "Record located mount isa\n",
      "Record located fortuna\n",
      "Record located mount gambier\n",
      "Record located port elizabeth\n",
      "Record located atar\n",
      "Record located nalut\n",
      "Record located avarua\n",
      "Record located carnarvon\n",
      "Record located prizren\n",
      "tarudant not found\n",
      "Record located alice springs\n",
      "Record located kilindoni\n",
      "tumannyy not found\n",
      "Record located dno\n",
      "Record located waldoboro\n",
      "Record located vardo\n",
      "Record located ambon\n",
      "Record located beringovskiy\n",
      "Record located tiksi\n",
      "Record located fairbanks\n",
      "Record located gat\n",
      "attawapiskat not found\n",
      "Record located biharamulo\n",
      "belushya guba not found\n",
      "Record located viedma\n",
      "Record located road town\n",
      "Record located cabedelo\n",
      "Record located alofi\n",
      "Record located taltal\n",
      "Record located nenjiang\n",
      "Record located haifa\n",
      "Record located arraial do cabo\n",
      "Record located bredasdorp\n",
      "Record located chicama\n",
      "Record located saldanha\n",
      "Record located arman\n",
      "Record located gacko\n",
      "Record located lebu\n",
      "Record located nishihara\n",
      "Record located vuktyl\n",
      "Record located taiyuan\n",
      "Record located nemuro\n",
      "Record located lerwick\n",
      "Record located moranbah\n",
      "Record located quixeramobim\n",
      "Record located komsomolskiy\n",
      "Record located cangzhou\n",
      "chikoy not found\n",
      "Record located namatanai\n",
      "Record located concordia\n",
      "Record located ketchikan\n",
      "Record located kavieng\n",
      "Record located south lake tahoe\n",
      "Record located katobu\n",
      "Record located saint anthony\n",
      "Record located fare\n",
      "Record located adrar\n",
      "Record located axim\n",
      "Record located diamantino\n",
      "Record located lorengau\n",
      "Record located khorinsk\n",
      "Record located hambantota\n",
      "Record located grindavik\n",
      "Record located taywarah\n",
      "Record located antalaha\n",
      "Record located walvis bay\n",
      "dianopolis not found\n",
      "Record located christchurch\n",
      "karkaralinsk not found\n",
      "tsihombe not found\n",
      "Record located tambura\n",
      "dzhusaly not found\n",
      "Record located morant bay\n",
      "Record located vysokogornyy\n",
      "mys shmidta not found\n",
      "Record located farafangana\n",
      "Record located constitucion\n",
      "Record located svinita\n",
      "Record located nicoya\n",
      "Record located padang\n",
      "Record located minggang\n",
      "yirol not found\n",
      "Record located along\n",
      "Record located kilosa\n",
      "Record located port augusta\n",
      "Record located zonguldak\n",
      "Record located batesville\n",
      "Record located ancud\n",
      "Record located altay\n",
      "Record located yazykovo\n",
      "Record located kalmar\n",
      "Record located tsabong\n",
      "Record located mino\n",
      "Record located bandarban\n",
      "Record located rorvik\n",
      "Record located inuvik\n",
      "Record located ilulissat\n",
      "Record located lagoa\n",
      "Record located sorland\n",
      "Record located straumen\n",
      "Record located lubango\n",
      "kuche not found\n",
      "Record located coronado\n",
      "Record located moron\n",
      "Record located khotyn\n",
      "Record located ixtapa\n",
      "Record located mae sot\n",
      "Record located vanavara\n",
      "Record located atbasar\n",
      "Record located luganville\n",
      "Record located saint-joseph\n",
      "Record located puerto lempira\n",
      "Record located ingham\n",
      "Record located zhigansk\n",
      "Record located plouzane\n",
      "Record located ishigaki\n",
      "Record located pacific grove\n",
      "Record located bairiki\n",
      "Record located antibes\n",
      "Record located dalvik\n",
      "rab not found\n",
      "umzimvubu not found\n",
      "Record located west bay\n",
      "Record located cuenca\n",
      "Record located da nang\n",
      "Record located clyde river\n",
      "Record located kontagora\n",
      "Record located fort-shevchenko\n",
      "Record located mount darwin\n",
      "Record located houma\n",
      "Record located humaita\n",
      "Record located maradi\n",
      "Record located airai\n",
      "Record located namibe\n",
      "Record located emba\n",
      "Record located juba\n",
      "Record located paragould\n",
      "Record located ayan\n",
      "Record located los negros\n",
      "Record located berlevag\n",
      "burica not found\n",
      "Record located buenos aires\n",
      "Record located bulgan\n",
      "Record located kendari\n",
      "Record located chuy\n",
      "Record located huaraz\n",
      "Record located quelimane\n",
      "Record located valls\n",
      "Record located surt\n",
      "Record located pedernales\n",
      "taburao not found\n",
      "Record located port hedland\n",
      "Record located sterling\n",
      "Record located ushtobe\n",
      "Record located atasu\n",
      "Record located manaus\n",
      "Record located gizo\n",
      "Record located tuatapere\n",
      "Record located obanazawa\n",
      "Record located progreso\n",
      "sorvag not found\n",
      "Record located quepos\n",
      "Record located krasnoarmeysk\n",
      "Record located bud\n",
      "Record located bolgatanga\n",
      "Record located fez\n",
      "Record located kununurra\n",
      "grand river south east not found\n",
      "Record located virginia beach\n",
      "Record located manitouwadge\n",
      "Record located paciran\n"
     ]
    },
    {
     "name": "stdout",
     "output_type": "stream",
     "text": [
      "Record located funes\n",
      "Record located vila franca do campo\n",
      "Record located taganak\n",
      "Record located east london\n",
      "Record located sao joao da barra\n",
      "Record located minot\n",
      "Record located praia da vitoria\n",
      "Record located habiganj\n",
      "Record located nyurba\n",
      "Record located nhulunbuy\n",
      "Record located soyo\n",
      "Record located parana\n",
      "Record located vigrestad\n",
      "Record located sarangani\n",
      "Record located geraldton\n",
      "Record located gazli\n",
      "Record located victoria\n",
      "tubruq not found\n",
      "Record located dahra\n",
      "Record located malakal\n",
      "Record located qaqortoq\n",
      "Record located santa maria\n",
      "Record located wahiawa\n",
      "Record located shenjiamen\n",
      "Record located cedar city\n",
      "Record located sidney\n",
      "Record located fort nelson\n",
      "Record located kalmunai\n",
      "Record located petawawa\n",
      "Record located hervey bay\n",
      "karaul not found\n",
      "Record located goure\n",
      "lolua not found\n",
      "vaitupu not found\n",
      "Record located tazovskiy\n",
      "Record located smithers\n",
      "Record located birobidzhan\n",
      "ust-kamchatsk not found\n",
      "Record located itarema\n",
      "Record located norman wells\n",
      "Record located stuttgart\n",
      "Record located esperance\n",
      "Record located husavik\n",
      "Record located coihaique\n",
      "Record located igpit\n",
      "Record located baykit\n",
      "Record located sioux lookout\n",
      "Record located ternate\n",
      "Record located iracoubo\n",
      "ruatoria not found\n",
      "Record located upernavik\n",
      "Record located linhares\n",
      "Record located aripuana\n",
      "Record located san jose\n",
      "Record located ken caryl\n",
      "Record located aguas vermelhas\n",
      "Record located austin\n",
      "Record located haimen\n",
      "Record located astoria\n",
      "satitoa not found\n",
      "Record located brae\n",
      "Record located coffs harbour\n",
      "Record located lokvine\n",
      "Record located tarauaca\n",
      "Record located tabou\n",
      "Record located joshimath\n",
      "Record located abadan\n",
      "Record located qazanbulaq\n",
      "Record located iqaluit\n",
      "Record located lakes entrance\n",
      "Record located kudahuvadhoo\n",
      "Record located kandi\n",
      "Record located kenai\n",
      "Record located touros\n",
      "Record located naze\n",
      "Record located kaohsiung\n",
      "Record located kyabe\n",
      "Record located jurm\n",
      "tabiauea not found\n",
      "Record located bealanana\n",
      "Record located avenal\n",
      "Record located essenbach\n",
      "temaraia not found\n",
      "Record located ubinskoye\n",
      "warqla not found\n",
      "Record located seoul\n",
      "Record located caceres\n",
      "Record located tam ky\n",
      "Record located lata\n",
      "Record located puebloviejo\n",
      "Record located iquitos\n",
      "Record located tautira\n",
      "Record located khilok\n",
      "Record located osoyoos\n",
      "Record located koutsouras\n",
      "Record located yumen\n",
      "Record located myre\n",
      "Record located chauk\n",
      "Record located mandalgovi\n",
      "Record located zdvinsk\n",
      "Record located peace river\n",
      "Record located farsund\n",
      "Record located flinders\n",
      "Record located yarim\n",
      "palabuhanratu not found\n",
      "Record located kachug\n",
      "Record located camacha\n",
      "Record located kurchum\n",
      "Record located kahului\n",
      "Record located biak\n",
      "Record located tongliao\n",
      "Record located salinopolis\n",
      "Record located providencia\n",
      "Record located henties bay\n",
      "Record located tshane\n",
      "scottsburgh not found\n",
      "Record located monteagudo\n",
      "Record located venado tuerto\n",
      "Record located oranjemund\n",
      "Record located high rock\n",
      "Record located cockburn town\n",
      "Record located turayf\n",
      "Record located lethem\n",
      "Record located saquena\n",
      "Record located ostrovnoy\n",
      "Record located nagato\n",
      "Record located lima\n",
      "Record located tura\n",
      "Record located leningradskiy\n",
      "Record located eppstein\n",
      "Record located poum\n",
      "Record located alyangula\n",
      "Record located maceio\n",
      "Record located pedro ii\n",
      "Record located killarney\n",
      "Record located santa rosa\n",
      "Record located kushmurun\n",
      "tabialan not found\n",
      "Record located praia\n",
      "Record located kralendijk\n",
      "Record located muleba\n",
      "Record located ghanzi\n",
      "bolshoye ignatovo not found\n",
      "Record located sal rei\n",
      "Record located jewar\n",
      "Record located rio cuarto\n",
      "Record located los llanos de aridane\n",
      "keshan not found\n",
      "Record located dubbo\n",
      "Record located codrington\n",
      "Record located teya\n",
      "Record located kvareli\n",
      "Record located guantanamo\n",
      "Record located kestel\n",
      "Record located nome\n",
      "makung not found\n",
      "Record located ulladulla\n",
      "masjed-e soleyman not found\n",
      "Record located yaan\n",
      "Record located nyimba\n",
      "Record located kharp\n",
      "Record located chino valley\n",
      "Record located tornio\n",
      "Record located porto novo\n",
      "Record located palu\n",
      "Record located buraydah\n",
      "Record located tera\n",
      "Record located bentiu\n",
      "Record located college\n",
      "Record located caravelas\n",
      "Record located yunyang\n",
      "Record located susanville\n",
      "Record located klaksvik\n",
      "Record located puerto baquerizo moreno\n",
      "Record located innisfail\n",
      "aflu not found\n",
      "Record located atambua\n",
      "Record located gerash\n",
      "Record located broome\n",
      "Record located ugra\n",
      "Record located sobolevo\n",
      "Record located asau\n",
      "Record located marseille\n",
      "Record located andenes\n",
      "Record located nantucket\n",
      "Record located dharchula\n",
      "Record located ostersund\n",
      "berdyuzhye not found\n",
      "Record located ulaangom\n",
      "Record located nouadhibou\n",
      "Record located najran\n",
      "Record located santa fe\n",
      "Record located nanga eboko\n",
      "Record located traverse city\n",
      "Record located teguise\n",
      "Record located araouane\n",
      "Record located san juan\n",
      "Record located hualmay\n",
      "Record located kumi\n",
      "Record located ganzhou\n",
      "Record located lanxi\n",
      "Record located rio gallegos\n",
      "sentyabrskiy not found\n",
      "Record located bara\n",
      "Record located puerto colombia\n",
      "kawana waters not found\n",
      "Record located grand gaube\n",
      "Record located presidencia roque saenz pena\n",
      "Record located yuancheng\n",
      "Record located yulara\n",
      "marcona not found\n",
      "Record located dumai\n",
      "Record located salalah\n",
      "Record located jalu\n",
      "Record located san quintin\n",
      "Record located darnah\n",
      "Record located aberdeen\n",
      "Record located schleswig\n",
      "Record located pemberton\n",
      "Record located nakamura\n",
      "Record located fayaoue\n",
      "Record located saint-pierre\n",
      "Record located labuhan\n",
      "Record located solnechnyy\n",
      "Record located campina verde\n",
      "Record located kerava\n",
      "Record located winnipeg\n",
      "Record located paamiut\n",
      "Record located mangai\n",
      "Record located cobija\n",
      "Record located mchinji\n",
      "Record located darque\n",
      "Record located belen\n",
      "Record located rey bouba\n",
      "Record located muroto\n",
      "Record located lilongwe\n",
      "Record located poya\n",
      "Record located cabimas\n",
      "Record located nisia floresta\n",
      "Record located linqing\n",
      "Record located hatton\n",
      "Record located bongaree\n",
      "Record located bukoba\n",
      "Record located cap malheureux\n",
      "Record located constantine\n",
      "Record located corpus christi\n",
      "Record located tselinnoye\n",
      "Record located marabba\n",
      "Record located tadine\n",
      "Record located neuquen\n",
      "Record located dwarka\n",
      "Record located cozumel\n",
      "Record located comodoro rivadavia\n",
      "Record located rumoi\n",
      "Record located baruun-urt\n",
      "Record located flin flon\n",
      "Record located aseri\n",
      "Record located portland\n",
      "Record located prieska\n",
      "Record located kawalu\n",
      "Record located indian head\n",
      "Record located mon\n",
      "Record located salamiyah\n",
      "Record located muli\n",
      "Record located aykhal\n",
      "Record located verkh-suetka\n",
      "Record located ngorongoro\n",
      "Record located marawi\n",
      "Record located luderitz\n",
      "Record located unterseen\n",
      "Record located santa ana\n",
      "armacao dos buzios not found\n",
      "Record located alenquer\n",
      "Record located mahajanga\n",
      "Record located arlit\n",
      "jiddah not found\n",
      "------------------------------\n",
      "Data Retrieval Complete\n",
      "------------------------------\n"
     ]
    }
   ],
   "source": [
    "record = 1 \n",
    "sets = 1\n",
    "\n",
    "city_list = []\n",
    "\n",
    "for index, city in enumerate(cities):\n",
    "         \n",
    "    if record == 50:\n",
    "            record += 1\n",
    "            sets +=1\n",
    "            time.sleep(60)\n",
    "            \n",
    "    try:\n",
    "        url = \"http://api.openweathermap.org/data/2.5/weather?units=Imperial&APPID=\" + weather_api_key\n",
    "        url = url + \"&q=\"+ city.replace(\" \", \"+\")\n",
    "        response = requests.get(url).json()\n",
    "                            \n",
    "        city_lat = response['coord']['lat']\n",
    "        city_lon = response['coord']['lon']\n",
    "        city_temp = response['main']['temp_max']\n",
    "        city_humidity = response['main']['humidity']\n",
    "        city_clouds = response['clouds']['all']\n",
    "        city_wind = response['wind']['speed']\n",
    "        city_country = response['sys']['country']\n",
    "        city_description = response['weather'][0]['description']\n",
    "        \n",
    "        city_list.append({\n",
    "            \"city\": city, \n",
    "            \"lat\": city_lat,\n",
    "            \"lon\": city_lon,\n",
    "            \"temp_max\": city_temp,\n",
    "            \"humidity\": city_humidity,\n",
    "            \"clouds\": city_clouds,\n",
    "            \"wind\": city_wind,\n",
    "            \"country\": city_country,\n",
    "            \"description\": city_description\n",
    "        })      \n",
    "        \n",
    "        print(f\"Record located {city}\")\n",
    "       \n",
    "    \n",
    "    except:\n",
    "        print(f\"{city} not found\")\n",
    "        record +=1\n",
    "        \n",
    "        \n",
    "              \n",
    "print(\"------------------------------\\nData Retrieval Complete\\n------------------------------\") \n"
   ]
  },
  {
   "cell_type": "markdown",
   "metadata": {},
   "source": [
    "### Convert Raw Data to DataFrame\n",
    "* Export the city data into a .csv.\n",
    "* Display the DataFrame"
   ]
  },
  {
   "cell_type": "code",
   "execution_count": 28,
   "metadata": {},
   "outputs": [],
   "source": [
    "# Export data into csv\n",
    "cities_df.to_csv(\"weather_check_output.csv\")"
   ]
  },
  {
   "cell_type": "code",
   "execution_count": 11,
   "metadata": {},
   "outputs": [],
   "source": [
    "#Output of csv file"
   ]
  },
  {
   "cell_type": "code",
   "execution_count": 12,
   "metadata": {},
   "outputs": [
    {
     "data": {
      "text/html": [
       "<div>\n",
       "<style scoped>\n",
       "    .dataframe tbody tr th:only-of-type {\n",
       "        vertical-align: middle;\n",
       "    }\n",
       "\n",
       "    .dataframe tbody tr th {\n",
       "        vertical-align: top;\n",
       "    }\n",
       "\n",
       "    .dataframe thead th {\n",
       "        text-align: right;\n",
       "    }\n",
       "</style>\n",
       "<table border=\"1\" class=\"dataframe\">\n",
       "  <thead>\n",
       "    <tr style=\"text-align: right;\">\n",
       "      <th></th>\n",
       "      <th>city</th>\n",
       "      <th>lat</th>\n",
       "      <th>lon</th>\n",
       "      <th>temp_max</th>\n",
       "      <th>humidity</th>\n",
       "      <th>clouds</th>\n",
       "      <th>wind</th>\n",
       "      <th>country</th>\n",
       "      <th>description</th>\n",
       "    </tr>\n",
       "  </thead>\n",
       "  <tbody>\n",
       "    <tr>\n",
       "      <th>0</th>\n",
       "      <td>broken hill</td>\n",
       "      <td>-31.95</td>\n",
       "      <td>141.43</td>\n",
       "      <td>66.20</td>\n",
       "      <td>52</td>\n",
       "      <td>1</td>\n",
       "      <td>12.75</td>\n",
       "      <td>AU</td>\n",
       "      <td>clear sky</td>\n",
       "    </tr>\n",
       "    <tr>\n",
       "      <th>1</th>\n",
       "      <td>tingo maria</td>\n",
       "      <td>-9.29</td>\n",
       "      <td>-76.01</td>\n",
       "      <td>71.28</td>\n",
       "      <td>83</td>\n",
       "      <td>100</td>\n",
       "      <td>2.26</td>\n",
       "      <td>PE</td>\n",
       "      <td>overcast clouds</td>\n",
       "    </tr>\n",
       "    <tr>\n",
       "      <th>2</th>\n",
       "      <td>biskamzha</td>\n",
       "      <td>53.45</td>\n",
       "      <td>89.53</td>\n",
       "      <td>38.23</td>\n",
       "      <td>77</td>\n",
       "      <td>100</td>\n",
       "      <td>4.70</td>\n",
       "      <td>RU</td>\n",
       "      <td>overcast clouds</td>\n",
       "    </tr>\n",
       "    <tr>\n",
       "      <th>3</th>\n",
       "      <td>faanui</td>\n",
       "      <td>-16.48</td>\n",
       "      <td>-151.75</td>\n",
       "      <td>79.65</td>\n",
       "      <td>83</td>\n",
       "      <td>100</td>\n",
       "      <td>18.72</td>\n",
       "      <td>PF</td>\n",
       "      <td>overcast clouds</td>\n",
       "    </tr>\n",
       "    <tr>\n",
       "      <th>4</th>\n",
       "      <td>kavaratti</td>\n",
       "      <td>10.57</td>\n",
       "      <td>72.64</td>\n",
       "      <td>81.72</td>\n",
       "      <td>75</td>\n",
       "      <td>89</td>\n",
       "      <td>7.05</td>\n",
       "      <td>IN</td>\n",
       "      <td>overcast clouds</td>\n",
       "    </tr>\n",
       "    <tr>\n",
       "      <th>...</th>\n",
       "      <td>...</td>\n",
       "      <td>...</td>\n",
       "      <td>...</td>\n",
       "      <td>...</td>\n",
       "      <td>...</td>\n",
       "      <td>...</td>\n",
       "      <td>...</td>\n",
       "      <td>...</td>\n",
       "      <td>...</td>\n",
       "    </tr>\n",
       "    <tr>\n",
       "      <th>558</th>\n",
       "      <td>unterseen</td>\n",
       "      <td>46.69</td>\n",
       "      <td>7.85</td>\n",
       "      <td>48.00</td>\n",
       "      <td>93</td>\n",
       "      <td>75</td>\n",
       "      <td>2.24</td>\n",
       "      <td>CH</td>\n",
       "      <td>broken clouds</td>\n",
       "    </tr>\n",
       "    <tr>\n",
       "      <th>559</th>\n",
       "      <td>santa ana</td>\n",
       "      <td>33.75</td>\n",
       "      <td>-117.87</td>\n",
       "      <td>70.00</td>\n",
       "      <td>37</td>\n",
       "      <td>40</td>\n",
       "      <td>10.29</td>\n",
       "      <td>US</td>\n",
       "      <td>smoke</td>\n",
       "    </tr>\n",
       "    <tr>\n",
       "      <th>560</th>\n",
       "      <td>alenquer</td>\n",
       "      <td>-1.94</td>\n",
       "      <td>-54.74</td>\n",
       "      <td>78.80</td>\n",
       "      <td>94</td>\n",
       "      <td>0</td>\n",
       "      <td>1.63</td>\n",
       "      <td>BR</td>\n",
       "      <td>clear sky</td>\n",
       "    </tr>\n",
       "    <tr>\n",
       "      <th>561</th>\n",
       "      <td>mahajanga</td>\n",
       "      <td>-15.72</td>\n",
       "      <td>46.32</td>\n",
       "      <td>71.60</td>\n",
       "      <td>78</td>\n",
       "      <td>20</td>\n",
       "      <td>2.24</td>\n",
       "      <td>MG</td>\n",
       "      <td>few clouds</td>\n",
       "    </tr>\n",
       "    <tr>\n",
       "      <th>562</th>\n",
       "      <td>arlit</td>\n",
       "      <td>18.74</td>\n",
       "      <td>7.39</td>\n",
       "      <td>76.17</td>\n",
       "      <td>17</td>\n",
       "      <td>0</td>\n",
       "      <td>6.89</td>\n",
       "      <td>NE</td>\n",
       "      <td>clear sky</td>\n",
       "    </tr>\n",
       "  </tbody>\n",
       "</table>\n",
       "<p>563 rows × 9 columns</p>\n",
       "</div>"
      ],
      "text/plain": [
       "            city    lat     lon  temp_max  humidity  clouds   wind country  \\\n",
       "0    broken hill -31.95  141.43     66.20        52       1  12.75      AU   \n",
       "1    tingo maria  -9.29  -76.01     71.28        83     100   2.26      PE   \n",
       "2      biskamzha  53.45   89.53     38.23        77     100   4.70      RU   \n",
       "3         faanui -16.48 -151.75     79.65        83     100  18.72      PF   \n",
       "4      kavaratti  10.57   72.64     81.72        75      89   7.05      IN   \n",
       "..           ...    ...     ...       ...       ...     ...    ...     ...   \n",
       "558    unterseen  46.69    7.85     48.00        93      75   2.24      CH   \n",
       "559    santa ana  33.75 -117.87     70.00        37      40  10.29      US   \n",
       "560     alenquer  -1.94  -54.74     78.80        94       0   1.63      BR   \n",
       "561    mahajanga -15.72   46.32     71.60        78      20   2.24      MG   \n",
       "562        arlit  18.74    7.39     76.17        17       0   6.89      NE   \n",
       "\n",
       "         description  \n",
       "0          clear sky  \n",
       "1    overcast clouds  \n",
       "2    overcast clouds  \n",
       "3    overcast clouds  \n",
       "4    overcast clouds  \n",
       "..               ...  \n",
       "558    broken clouds  \n",
       "559            smoke  \n",
       "560        clear sky  \n",
       "561       few clouds  \n",
       "562        clear sky  \n",
       "\n",
       "[563 rows x 9 columns]"
      ]
     },
     "execution_count": 12,
     "metadata": {},
     "output_type": "execute_result"
    }
   ],
   "source": [
    "#Create DataFrame\n",
    "cities_df = pd.DataFrame(city_list)\n",
    "\n",
    "cities_df"
   ]
  },
  {
   "cell_type": "markdown",
   "metadata": {},
   "source": [
    "## Inspect the data and remove the cities where the humidity > 100%.\n",
    "----\n",
    "Skip this step if there are no cities that have humidity > 100%. "
   ]
  },
  {
   "cell_type": "markdown",
   "metadata": {},
   "source": [
    "## Plotting the Data\n",
    "* Use proper labeling of the plots using plot titles (including date of analysis) and axes labels.\n",
    "* Save the plotted figures as .pngs."
   ]
  },
  {
   "cell_type": "markdown",
   "metadata": {},
   "source": [
    "## Latitude vs. Temperature Plot"
   ]
  },
  {
   "cell_type": "code",
   "execution_count": 13,
   "metadata": {
    "scrolled": false
   },
   "outputs": [
    {
     "data": {
      "image/png": "[encoded data removed]",
      "text/plain": [
       "<Figure size 432x288 with 1 Axes>"
      ]
     },
     "metadata": {
      "needs_background": "light"
     },
     "output_type": "display_data"
    },
    {
     "name": "stdout",
     "output_type": "stream",
     "text": [
      "Analysis: Temperature gets warmer as Latitude nears 0 degrees.\n"
     ]
    }
   ],
   "source": [
    "plt.scatter(cities_df[\"lat\"], cities_df[\"temp_max\"], marker = \"o\")\n",
    "plt.title(\"Latitude vs. Temperature\")\n",
    "plt.xlabel(\"Latitude\")\n",
    "plt.ylabel(\"Temperature\")\n",
    "\n",
    "plt.savefig(\"Pics/Temperature.png\")\n",
    "plt.show()\n",
    "\n",
    "print(\"Analysis: Temperature gets warmer as Latitude nears 0 degrees.\")"
   ]
  },
  {
   "cell_type": "markdown",
   "metadata": {},
   "source": [
    "## Latitude vs. Humidity Plot"
   ]
  },
  {
   "cell_type": "code",
   "execution_count": 14,
   "metadata": {},
   "outputs": [
    {
     "data": {
      "image/png": "[encoded data removed]",
      "text/plain": [
       "<Figure size 432x288 with 1 Axes>"
      ]
     },
     "metadata": {
      "needs_background": "light"
     },
     "output_type": "display_data"
    },
    {
     "name": "stdout",
     "output_type": "stream",
     "text": [
      "My Analysis\n"
     ]
    }
   ],
   "source": [
    "plt.scatter(cities_df[\"lat\"], cities_df[\"humidity\"], marker = \"o\")\n",
    "plt.title(\"Latitude vs. Humidity\")\n",
    "plt.xlabel(\"Latitude\")\n",
    "plt.ylabel(\"Humidity\")\n",
    "\n",
    "plt.savefig(\"Pics/Humidity.png\")\n",
    "plt.show()\n",
    "\n",
    "print(\"My Analysis\")"
   ]
  },
  {
   "cell_type": "markdown",
   "metadata": {},
   "source": [
    "## Latitude vs. Cloudiness Plot"
   ]
  },
  {
   "cell_type": "code",
   "execution_count": 15,
   "metadata": {},
   "outputs": [
    {
     "data": {
      "image/png": "[encoded data removed]",
      "text/plain": [
       "<Figure size 432x288 with 1 Axes>"
      ]
     },
     "metadata": {
      "needs_background": "light"
     },
     "output_type": "display_data"
    },
    {
     "name": "stdout",
     "output_type": "stream",
     "text": [
      "Analysis: Clouds are relatively dispersed regardless of Latitude\n"
     ]
    }
   ],
   "source": [
    "plt.scatter(cities_df[\"lat\"], cities_df[\"clouds\"], marker = \"o\")\n",
    "plt.title(\"Latitude vs. Cloudiness\")\n",
    "plt.xlabel(\"Latitude\")\n",
    "plt.ylabel(\"Cloudiness (%)\")\n",
    "\n",
    "plt.savefig(\"Pics/Cloudiness.png\")\n",
    "plt.show()\n",
    "\n",
    "print(\"Analysis: Clouds are relatively dispersed regardless of Latitude\")"
   ]
  },
  {
   "cell_type": "markdown",
   "metadata": {},
   "source": [
    "## Latitude vs. Wind Speed Plot"
   ]
  },
  {
   "cell_type": "code",
   "execution_count": 16,
   "metadata": {},
   "outputs": [
    {
     "data": {
      "image/png": "[encoded data removed]",
      "text/plain": [
       "<Figure size 432x288 with 1 Axes>"
      ]
     },
     "metadata": {
      "needs_background": "light"
     },
     "output_type": "display_data"
    },
    {
     "name": "stdout",
     "output_type": "stream",
     "text": [
      "Analysis: Overall wind is fairly calm in cities studied and fairly consistent regardless of Latitude \n"
     ]
    }
   ],
   "source": [
    "plt.scatter(cities_df[\"lat\"], cities_df[\"wind\"], marker = \"o\")\n",
    "plt.title(\"Latitude vs. Wind\")\n",
    "plt.xlabel(\"Latitude\")\n",
    "plt.ylabel(\"Wind\")\n",
    "\n",
    "plt.savefig(\"Pics/Wind_Speed.png\")\n",
    "plt.show()\n",
    "\n",
    "print(\"Analysis: Overall wind is fairly calm in cities studied and fairly consistent regardless of Latitude \")"
   ]
  },
  {
   "cell_type": "markdown",
   "metadata": {},
   "source": [
    "## Linear Regression"
   ]
  },
  {
   "cell_type": "code",
   "execution_count": 17,
   "metadata": {},
   "outputs": [],
   "source": [
    "#Northern and Southern Hemisphere DataFrames\n",
    "northern_df = cities_df.loc[cities_df[\"lat\"].astype(float) > 0]\n",
    "southern_df = cities_df.loc[cities_df[\"lat\"].astype(float) < 0]"
   ]
  },
  {
   "cell_type": "markdown",
   "metadata": {},
   "source": [
    "####  Northern Hemisphere - Max Temp vs. Latitude Linear Regression"
   ]
  },
  {
   "cell_type": "code",
   "execution_count": 18,
   "metadata": {},
   "outputs": [
    {
     "name": "stdout",
     "output_type": "stream",
     "text": [
      "Regression line equation is: y= -0.97x+ 90.55\n",
      "The r-squared is: 0.7659025256754315\n"
     ]
    },
    {
     "data": {
      "image/png": "[encoded data removed]",
      "text/plain": [
       "<Figure size 432x288 with 1 Axes>"
      ]
     },
     "metadata": {
      "needs_background": "light"
     },
     "output_type": "display_data"
    },
    {
     "name": "stdout",
     "output_type": "stream",
     "text": [
      "Analysis: There is a strng linear relationship between temperature and latitude.\n"
     ]
    }
   ],
   "source": [
    "#Run Linear Regression Data\n",
    "x_values = northern_df[\"lat\"]\n",
    "y_values = northern_df[\"temp_max\"]\n",
    "\n",
    "(slope, intercept, rvalue, pbalue, stderr) = linregress(x_values, y_values)\n",
    "\n",
    "regress_values = x_values * slope + intercept\n",
    "line_eq = \"y= \" + str(round(slope,2)) + \"x+ \" + str(round(intercept,2))\n",
    "\n",
    "#Plot scatter plot\n",
    "plt.scatter(x_values,y_values)\n",
    "\n",
    "#Plot regression line\n",
    "plt.plot(x_values,regress_values,\"r--\")\n",
    "plt.annotate(line_eq,(0,50), fontsize = 10, color = \"red\")\n",
    "\n",
    "#Title & Axis labels\n",
    "plt.title(\"Northern Hemisphere - Max Temp vs. Latitude\")\n",
    "plt.xlabel(\"Latitude\")\n",
    "plt.ylabel(\"Max Temp (F)\")\n",
    "\n",
    "print(f\"Regression line equation is: {line_eq}\")\n",
    "print(f\"The r-squared is: {rvalue**2}\")\n",
    "\n",
    "plt.savefig(\"Pics/NorthernHem_MaxTempvs.Lat.png\")\n",
    "plt.show()\n",
    "\n",
    "print(\"Analysis: There is a strng linear relationship between temperature and latitude.\")\n"
   ]
  },
  {
   "cell_type": "markdown",
   "metadata": {},
   "source": [
    "####  Southern Hemisphere - Max Temp vs. Latitude Linear Regression"
   ]
  },
  {
   "cell_type": "code",
   "execution_count": 19,
   "metadata": {},
   "outputs": [
    {
     "name": "stdout",
     "output_type": "stream",
     "text": [
      "Regression line equation is: y= 0.53x+ 81.63\n",
      "The r-squared is: 0.43480521402254857\n"
     ]
    },
    {
     "data": {
      "image/png": "[encoded data removed]",
      "text/plain": [
       "<Figure size 432x288 with 1 Axes>"
      ]
     },
     "metadata": {
      "needs_background": "light"
     },
     "output_type": "display_data"
    },
    {
     "name": "stdout",
     "output_type": "stream",
     "text": [
      "Analysis: there is less of a linear relationship in Southern vs. Northern Hemisphere regarding Max Temps and Latitude\n"
     ]
    }
   ],
   "source": [
    "#Run Linear Regression Data\n",
    "x_values = southern_df[\"lat\"]\n",
    "y_values = southern_df[\"temp_max\"]\n",
    "\n",
    "(slope, intercept, rvalue, pbalue, stderr) = linregress(x_values, y_values)\n",
    "\n",
    "regress_values = x_values * slope + intercept\n",
    "line_eq = \"y= \" + str(round(slope,2)) + \"x+ \" + str(round(intercept,2))\n",
    "\n",
    "#Plot scatter plot\n",
    "plt.scatter(x_values,y_values)\n",
    "\n",
    "#Plot regression line\n",
    "plt.plot(x_values,regress_values,\"r--\")\n",
    "plt.annotate(line_eq,(0,50), fontsize = 10, color = \"red\")\n",
    "\n",
    "#Title & Axis labels\n",
    "plt.title(\"Southern Hemisphere - Max Temp vs. Latitude\")\n",
    "plt.xlabel(\"Latitude\")\n",
    "plt.ylabel(\"Max Temp (F)\")\n",
    "\n",
    "print(f\"Regression line equation is: {line_eq}\")\n",
    "print(f\"The r-squared is: {rvalue**2}\")\n",
    "\n",
    "plt.savefig(\"Pics/SouthernHem_MaxTempvs.Lat.png\")\n",
    "plt.show()\n",
    "\n",
    "print(\"Analysis: there is less of a linear relationship in Southern vs. Northern Hemisphere regarding Max Temps and Latitude\")"
   ]
  },
  {
   "cell_type": "markdown",
   "metadata": {},
   "source": [
    "####  Northern Hemisphere - Humidity (%) vs. Latitude Linear Regression"
   ]
  },
  {
   "cell_type": "code",
   "execution_count": 20,
   "metadata": {},
   "outputs": [
    {
     "name": "stdout",
     "output_type": "stream",
     "text": [
      "Regression line equation is: y= 0.33x+ 60.46\n",
      "The r-squared is: 0.08564962916259891\n"
     ]
    },
    {
     "data": {
      "image/png": "[encoded data removed]",
      "text/plain": [
       "<Figure size 432x288 with 1 Axes>"
      ]
     },
     "metadata": {
      "needs_background": "light"
     },
     "output_type": "display_data"
    },
    {
     "name": "stdout",
     "output_type": "stream",
     "text": [
      "Analysis: There is almost no linear relationship drawn between humidity and latitude in Northern Hemisphere\n"
     ]
    }
   ],
   "source": [
    "#Run Linear Regression Data\n",
    "x_values = northern_df[\"lat\"]\n",
    "y_values = northern_df[\"humidity\"]\n",
    "\n",
    "(slope, intercept, rvalue, pbalue, stderr) = linregress(x_values, y_values)\n",
    "\n",
    "regress_values = x_values * slope + intercept\n",
    "line_eq = \"y= \" + str(round(slope,2)) + \"x+ \" + str(round(intercept,2))\n",
    "\n",
    "#Plot scatter plot\n",
    "plt.scatter(x_values,y_values)\n",
    "\n",
    "#Plot regression line\n",
    "plt.plot(x_values,regress_values,\"r--\")\n",
    "plt.annotate(line_eq,(0,50), fontsize = 10, color = \"red\")\n",
    "\n",
    "#Title & Axis labels\n",
    "plt.title(\"Northern Hemisphere - Humidity (%) vs. Latitude\")\n",
    "plt.xlabel(\"Latitude\")\n",
    "plt.ylabel(\"Humidity (%)\")\n",
    "\n",
    "print(f\"Regression line equation is: {line_eq}\")\n",
    "print(f\"The r-squared is: {rvalue**2}\")\n",
    "\n",
    "plt.savefig(\"Pics/NorthernHem_Humidityvs.Lat.png\")\n",
    "plt.show()\n",
    "\n",
    "print(\"Analysis: There is almost no linear relationship drawn between humidity and latitude in Northern Hemisphere\")"
   ]
  },
  {
   "cell_type": "markdown",
   "metadata": {},
   "source": [
    "####  Southern Hemisphere - Humidity (%) vs. Latitude Linear Regression"
   ]
  },
  {
   "cell_type": "code",
   "execution_count": 21,
   "metadata": {},
   "outputs": [
    {
     "name": "stdout",
     "output_type": "stream",
     "text": [
      "Regression line equation is: y= 0.29x+ 77.84\n",
      "The r-squared is: 0.04618353069385126\n"
     ]
    },
    {
     "data": {
      "image/png": "[encoded data removed]",
      "text/plain": [
       "<Figure size 432x288 with 1 Axes>"
      ]
     },
     "metadata": {
      "needs_background": "light"
     },
     "output_type": "display_data"
    },
    {
     "name": "stdout",
     "output_type": "stream",
     "text": [
      "Analysis: There is even less linear relationship in Southern vs. Northern hemisphere when comparing humidty to latitude\n"
     ]
    }
   ],
   "source": [
    "#Run Linear Regression Data\n",
    "x_values = southern_df[\"lat\"]\n",
    "y_values = southern_df[\"humidity\"]\n",
    "\n",
    "(slope, intercept, rvalue, pbalue, stderr) = linregress(x_values, y_values)\n",
    "\n",
    "regress_values = x_values * slope + intercept\n",
    "line_eq = \"y= \" + str(round(slope,2)) + \"x+ \" + str(round(intercept,2))\n",
    "\n",
    "#Plot scatter plot\n",
    "plt.scatter(x_values,y_values)\n",
    "\n",
    "#Plot regression line\n",
    "plt.plot(x_values,regress_values,\"r--\")\n",
    "plt.annotate(line_eq,(0,50), fontsize = 10, color = \"red\")\n",
    "\n",
    "#Title & Axis labels\n",
    "plt.title(\"Southern Hemisphere - Humidity (%) vs. Latitude\")\n",
    "plt.xlabel(\"Latitude\")\n",
    "plt.ylabel(\"Humidity (%)\")\n",
    "\n",
    "print(f\"Regression line equation is: {line_eq}\")\n",
    "print(f\"The r-squared is: {rvalue**2}\")\n",
    "\n",
    "plt.savefig(\"Pics/SouthernHem_Humidityvs.Lat.png\")\n",
    "plt.show()\n",
    "\n",
    "print(\"Analysis: There is even less linear relationship in Southern vs. Northern hemisphere when comparing humidty to latitude\")"
   ]
  },
  {
   "cell_type": "markdown",
   "metadata": {},
   "source": [
    "####  Northern Hemisphere - Cloudiness (%) vs. Latitude Linear Regression"
   ]
  },
  {
   "cell_type": "code",
   "execution_count": 22,
   "metadata": {},
   "outputs": [
    {
     "name": "stdout",
     "output_type": "stream",
     "text": [
      "Regression line equation is: y= 0.47x+ 34.9\n",
      "The r-squared is: 0.05158926626635747\n"
     ]
    },
    {
     "data": {
      "image/png": "[encoded data removed]",
      "text/plain": [
       "<Figure size 432x288 with 1 Axes>"
      ]
     },
     "metadata": {
      "needs_background": "light"
     },
     "output_type": "display_data"
    },
    {
     "name": "stdout",
     "output_type": "stream",
     "text": [
      "Analysis: Again, small correlation between cloudiness and latitude in Northern Hemisphere realized\n"
     ]
    }
   ],
   "source": [
    "#Run Linear Regression Data\n",
    "x_values = northern_df[\"lat\"]\n",
    "y_values = northern_df[\"clouds\"]\n",
    "\n",
    "(slope, intercept, rvalue, pbalue, stderr) = linregress(x_values, y_values)\n",
    "\n",
    "regress_values = x_values * slope + intercept\n",
    "line_eq = \"y= \" + str(round(slope,2)) + \"x+ \" + str(round(intercept,2))\n",
    "\n",
    "#Plot scatter plot\n",
    "plt.scatter(x_values,y_values)\n",
    "\n",
    "#Plot regression line\n",
    "plt.plot(x_values,regress_values,\"r--\")\n",
    "plt.annotate(line_eq,(0,50), fontsize = 10, color = \"red\")\n",
    "\n",
    "#Title & Axis labels\n",
    "plt.title(\"Northern Hemisphere - Cloudiness (%) vs. Latitude\")\n",
    "plt.xlabel(\"Latitude\")\n",
    "plt.ylabel(\"Cloudiness (%)\")\n",
    "\n",
    "print(f\"Regression line equation is: {line_eq}\")\n",
    "print(f\"The r-squared is: {rvalue**2}\")\n",
    "\n",
    "plt.savefig(\"Pics/NorthernHem_Cloudinessvs.Lat.png\")\n",
    "plt.show()\n",
    "\n",
    "print(\"Analysis: Again, small correlation between cloudiness and latitude in Northern Hemisphere realized\")"
   ]
  },
  {
   "cell_type": "markdown",
   "metadata": {},
   "source": [
    "####  Southern Hemisphere - Cloudiness (%) vs. Latitude Linear Regression"
   ]
  },
  {
   "cell_type": "code",
   "execution_count": 23,
   "metadata": {},
   "outputs": [
    {
     "name": "stdout",
     "output_type": "stream",
     "text": [
      "Regression line equation is: y= 0.59x+ 63.33\n",
      "The r-squared is: 0.036916294373255665\n"
     ]
    },
    {
     "data": {
      "image/png": "[encoded data removed]",
      "text/plain": [
       "<Figure size 432x288 with 1 Axes>"
      ]
     },
     "metadata": {
      "needs_background": "light"
     },
     "output_type": "display_data"
    },
    {
     "name": "stdout",
     "output_type": "stream",
     "text": [
      "Analysis: Small relationship as well in Southern hemisphere between clouds present and latitude. Large dispersement.\n"
     ]
    }
   ],
   "source": [
    "#Run Linear Regression Data\n",
    "x_values = southern_df[\"lat\"]\n",
    "y_values = southern_df[\"clouds\"]\n",
    "\n",
    "(slope, intercept, rvalue, pbalue, stderr) = linregress(x_values, y_values)\n",
    "\n",
    "regress_values = x_values * slope + intercept\n",
    "line_eq = \"y= \" + str(round(slope,2)) + \"x+ \" + str(round(intercept,2))\n",
    "\n",
    "#Plot scatter plot\n",
    "plt.scatter(x_values,y_values)\n",
    "\n",
    "#Plot regression line\n",
    "plt.plot(x_values,regress_values,\"r--\")\n",
    "plt.annotate(line_eq,(0,50), fontsize = 10, color = \"red\")\n",
    "\n",
    "#Title & Axis labels\n",
    "plt.title(\"Southern Hemisphere - Cloudiness (%) vs. Latitude\")\n",
    "plt.xlabel(\"Latitude\")\n",
    "plt.ylabel(\"Cloudiness (%)\")\n",
    "\n",
    "print(f\"Regression line equation is: {line_eq}\")\n",
    "print(f\"The r-squared is: {rvalue**2}\")\n",
    "\n",
    "plt.savefig(\"Pics/SouthernHem_Cloudinessvs.Lat.png\")\n",
    "plt.show()\n",
    "\n",
    "print(\"Analysis: Small relationship as well in Southern hemisphere between clouds present and latitude. Large dispersement.\")"
   ]
  },
  {
   "cell_type": "markdown",
   "metadata": {},
   "source": [
    "####  Northern Hemisphere - Wind Speed (mph) vs. Latitude Linear Regression"
   ]
  },
  {
   "cell_type": "code",
   "execution_count": 27,
   "metadata": {},
   "outputs": [
    {
     "ename": "SyntaxError",
     "evalue": "unexpected EOF while parsing (<ipython-input-27-21c8a92c7ae6>, line 28)",
     "output_type": "error",
     "traceback": [
      "\u001b[1;36m  File \u001b[1;32m\"<ipython-input-27-21c8a92c7ae6>\"\u001b[1;36m, line \u001b[1;32m28\u001b[0m\n\u001b[1;33m    print(\"Analysis: There is a mild correlation between wind speed and latitude.\"\u001b[0m\n\u001b[1;37m                                                                                  ^\u001b[0m\n\u001b[1;31mSyntaxError\u001b[0m\u001b[1;31m:\u001b[0m unexpected EOF while parsing\n"
     ]
    }
   ],
   "source": [
    "#Run Linear Regression Data\n",
    "x_values = northern_df[\"lat\"]\n",
    "y_values = northern_df[\"wind\"]\n",
    "\n",
    "(slope, intercept, rvalue, pbalue, stderr) = linregress(x_values, y_values)\n",
    "\n",
    "regress_values = x_values * slope + intercept\n",
    "line_eq = \"y= \" + str(round(slope,2)) + \"x+ \" + str(round(intercept,2))\n",
    "\n",
    "#Plot scatter plot\n",
    "plt.scatter(x_values,y_values)\n",
    "\n",
    "#Plot regression line\n",
    "plt.plot(x_values,regress_values,\"r--\")\n",
    "plt.annotate(line_eq,(0,50), fontsize = 10, color = \"red\")\n",
    "\n",
    "#Title & Axis labels\n",
    "plt.title(\"Northern Hemisphere - Wind Speed (mph) vs. Latitude\")\n",
    "plt.xlabel(\"Latitude\")\n",
    "plt.ylabel(\"Wind Speed (mph)\")\n",
    "\n",
    "print(f\"Regression line equation is: {line_eq}\")\n",
    "print(f\"The r-squared is: {rvalue**2}\")\n",
    "\n",
    "plt.savefig(\"Pics/NorthernHem_WindSpeedvs.Lat.png\")\n",
    "plt.show()\n",
    "\n",
    "print(\"Analysis: There is a mild correlation between wind speed and latitude.\""
   ]
  },
  {
   "cell_type": "markdown",
   "metadata": {},
   "source": [
    "####  Southern Hemisphere - Wind Speed (mph) vs. Latitude Linear Regression"
   ]
  },
  {
   "cell_type": "code",
   "execution_count": 25,
   "metadata": {},
   "outputs": [
    {
     "name": "stdout",
     "output_type": "stream",
     "text": [
      "Regression line equation is: y= -0.09x+ 5.61\n",
      "The r-squared is: 0.04959404341105589\n"
     ]
    },
    {
     "data": {
      "image/png": "[encoded data removed]",
      "text/plain": [
       "<Figure size 432x288 with 1 Axes>"
      ]
     },
     "metadata": {
      "needs_background": "light"
     },
     "output_type": "display_data"
    },
    {
     "name": "stdout",
     "output_type": "stream",
     "text": [
      "My Analysis\n"
     ]
    }
   ],
   "source": [
    "#Run Linear Regression Data\n",
    "x_values = southern_df[\"lat\"]\n",
    "y_values = southern_df[\"wind\"]\n",
    "\n",
    "(slope, intercept, rvalue, pbalue, stderr) = linregress(x_values, y_values)\n",
    "\n",
    "regress_values = x_values * slope + intercept\n",
    "line_eq = \"y= \" + str(round(slope,2)) + \"x+ \" + str(round(intercept,2))\n",
    "\n",
    "#Plot scatter plot\n",
    "plt.scatter(x_values,y_values)\n",
    "\n",
    "#Plot regression line\n",
    "plt.plot(x_values,regress_values,\"r--\")\n",
    "plt.annotate(line_eq,(0,50), fontsize = 10, color = \"red\")\n",
    "\n",
    "#Title & Axis labels\n",
    "plt.title(\"Southern Hemisphere - Wind Speed (mph) vs. Latitude\")\n",
    "plt.xlabel(\"Latitude\")\n",
    "plt.ylabel(\"Wind Speed (mph)\")\n",
    "\n",
    "print(f\"Regression line equation is: {line_eq}\")\n",
    "print(f\"The r-squared is: {rvalue**2}\")\n",
    "\n",
    "plt.savefig(\"Pics/SouthernHem_WindSpeedvs.Lat.png\")\n",
    "plt.show()\n",
    "\n",
    "print(\"My Analysis\")"
   ]
  },
  {
   "cell_type": "code",
   "execution_count": null,
   "metadata": {},
   "outputs": [],
   "source": []
  }
 ],
 "metadata": {
  "anaconda-cloud": {},
  "kernel_info": {
   "name": "python3"
  },
  "kernelspec": {
   "display_name": "Python [conda env:PythonData]",
   "language": "python",
   "name": "conda-env-PythonData-py"
  },
  "language_info": {
   "codemirror_mode": {
    "name": "ipython",
    "version": 3
   },
   "file_extension": ".py",
   "mimetype": "text/x-python",
   "name": "python",
   "nbconvert_exporter": "python",
   "pygments_lexer": "ipython3",
   "version": "3.7.1"
  },
  "latex_envs": {
   "LaTeX_envs_menu_present": true,
   "autoclose": false,
   "autocomplete": true,
   "bibliofile": "biblio.bib",
   "cite_by": "apalike",
   "current_citInitial": 1,
   "eqLabelWithNumbers": true,
   "eqNumInitial": 1,
   "hotkeys": {
    "equation": "Ctrl-E",
    "itemize": "Ctrl-I"
   },
   "labels_anchors": false,
   "latex_user_defs": false,
   "report_style_numbering": false,
   "user_envs_cfg": false
  },
  "nteract": {
   "version": "0.12.3"
  }
 },
 "nbformat": 4,
 "nbformat_minor": 2
}
