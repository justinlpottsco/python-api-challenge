{
 "cells": [
  {
   "cell_type": "markdown",
   "metadata": {},
   "source": [
    "# WeatherPy\n",
    "----\n",
    "\n",
    "#### Note\n",
    "* Instructions have been included for each segment. You do not have to follow them exactly, but they are included to help you think through the steps."
   ]
  },
  {
   "cell_type": "code",
   "execution_count": 3,
   "metadata": {},
   "outputs": [],
   "source": [
    "import matplotlib.pyplot as plt\n",
    "import pandas as pd\n",
    "import numpy as np\n",
    "import requests\n",
    "import time\n",
    "from scipy.stats import linregress\n",
    "from datetime import datetime\n",
    "\n",
    "from api_keys import weather_api_key\n",
    "\n",
    "# Incorporated citipy to determine city based on latitude and longitude\n",
    "from citipy import citipy\n",
    "\n",
    "# Output File (CSV)\n",
    "output_data_file = \"output_data/cities.csv\"\n",
    "\n",
    "# Range of latitudes and longitudes\n",
    "lat_range = (-90, 90)\n",
    "lng_range = (-180, 180)"
   ]
  },
  {
   "cell_type": "markdown",
   "metadata": {},
   "source": [
    "## Generate Cities List"
   ]
  },
  {
   "cell_type": "code",
   "execution_count": 4,
   "metadata": {},
   "outputs": [
    {
     "data": {
      "text/plain": [
       "604"
      ]
     },
     "execution_count": 4,
     "metadata": {},
     "output_type": "execute_result"
    }
   ],
   "source": [
    "# Create a list for holding the cities.\n",
    "lat_lngs = []\n",
    "cities = []\n",
    "\n",
    "# Create a set of random lat and lng combinations\n",
    "lats = np.random.uniform(lat_range[0], lat_range[1], size=1500)\n",
    "lngs = np.random.uniform(lng_range[0], lng_range[1], size=1500)\n",
    "lat_lngs = zip(lats, lngs)\n",
    "\n",
    "# Add the latitudes and longitudes to a list.\n",
    "#coordinates = list(lat_lngs)\n",
    "\n",
    "# Identify nearest city for each lat, lng combination\n",
    "for lat_lng in lat_lngs:\n",
    "    city = citipy.nearest_city(lat_lng[0], lat_lng[1]).city_name\n",
    "        \n",
    "    # If the city is unique, then add it to a our cities list\n",
    "    if city not in cities:\n",
    "           cities.append(city)\n",
    "        \n",
    "# Print the city count to confirm sufficient count\n",
    "len(cities)"
   ]
  },
  {
   "cell_type": "markdown",
   "metadata": {},
   "source": [
    "### Perform API Calls\n",
    "* Perform a weather check on each city using a series of successive API calls.\n",
    "* Include a print log of each city as it'sbeing processed (with the city number and city name).\n"
   ]
  },
  {
   "cell_type": "code",
   "execution_count": 6,
   "metadata": {},
   "outputs": [
    {
     "name": "stdout",
     "output_type": "stream",
     "text": [
      "Record located luderitz\n",
      "Record located dikson\n",
      "Record located jamestown\n",
      "Record located mataura\n",
      "Record located rikitea\n",
      "Record located garissa\n",
      "Record located busselton\n",
      "Record located kirakira\n",
      "Record located iqaluit\n",
      "Record located avera\n",
      "mahadday weyne not found\n",
      "tsihombe not found\n",
      "Record located college\n",
      "Record located kihei\n",
      "Record located castro\n",
      "Record located hermanus\n",
      "Record located ribeira grande\n",
      "Record located salinas\n",
      "Record located vaini\n",
      "Record located airai\n",
      "Record located kaitangata\n",
      "Record located kijang\n",
      "Record located asfi\n",
      "Record located albany\n",
      "Record located khatanga\n",
      "Record located mahebourg\n",
      "Record located lagoa\n",
      "Record located qaanaaq\n",
      "Record located arraial do cabo\n",
      "Record located provideniya\n",
      "Record located la cruz\n",
      "Record located ushuaia\n",
      "Record located tiksi\n",
      "Record located sao lourenco do sul\n",
      "Record located tessalit\n",
      "taolanaro not found\n",
      "Record located new norfolk\n",
      "Record located bambous virieux\n",
      "Record located punta arenas\n",
      "Record located hualmay\n",
      "Record located marsa matruh\n",
      "Record located port alfred\n",
      "Record located hithadhoo\n",
      "sentyabrskiy not found\n",
      "Record located pangnirtung\n",
      "Record located westport\n",
      "Record located inongo\n",
      "Record located san joaquin\n",
      "illoqqortoormiut not found\n",
      "Record located carnarvon\n",
      "Record located barrow\n",
      "Record located sitka\n",
      "Record located zhigansk\n",
      "Record located hutchinson\n",
      "Record located bluff\n",
      "Record located mar del plata\n",
      "Record located santa fe do sul\n",
      "Record located dingle\n",
      "Record located yellowknife\n",
      "Record located puerto ayora\n",
      "Record located sabinas hidalgo\n",
      "meyungs not found\n",
      "Record located moron\n",
      "Record located longyearbyen\n",
      "Record located tasiilaq\n",
      "Record located hilo\n",
      "Record located sainte-maxime\n",
      "Record located bolitoc\n",
      "Record located gombe\n",
      "Record located tigil\n",
      "Record located ponta do sol\n",
      "amderma not found\n",
      "Record located bria\n",
      "Record located faanui\n",
      "Record located pevek\n",
      "Record located magadi\n",
      "Record located cape town\n",
      "marcona not found\n",
      "mys shmidta not found\n",
      "Record located mata\n",
      "Record located gat\n",
      "Record located souillac\n",
      "Record located banda aceh\n",
      "Record located praya\n",
      "Record located victoria\n",
      "Record located murgab\n",
      "yialos not found\n",
      "Record located chimbote\n",
      "Record located ahipara\n",
      "Record located cherskiy\n",
      "saleaula not found\n",
      "Record located tuktoyaktuk\n",
      "Record located pochutla\n",
      "Record located choya\n",
      "Record located fort-shevchenko\n",
      "Record located ust-uda\n",
      "Record located zalantun\n",
      "Record located chokurdakh\n",
      "Record located sidi ali\n",
      "Record located butaritari\n",
      "Record located khovu-aksy\n",
      "Record located concepcion del oro\n",
      "Record located riberalta\n",
      "Record located hobart\n",
      "Record located kapaa\n",
      "Record located el limon\n",
      "Record located husavik\n",
      "Record located kemijarvi\n",
      "Record located owando\n",
      "Record located irara\n",
      "Record located ilhabela\n",
      "Record located roald\n",
      "Record located carballo\n",
      "Record located georgetown\n",
      "Record located ixtapa\n",
      "Record located geraldton\n",
      "tabiauea not found\n",
      "Record located alice springs\n",
      "Record located seoul\n",
      "Record located avarua\n",
      "Record located chesapeake\n",
      "bargal not found\n",
      "Record located rawson\n",
      "Record located chuy\n",
      "Record located jimo\n",
      "Record located tomatlan\n",
      "Record located east london\n",
      "Record located dedza\n",
      "toliary not found\n",
      "Record located kodiak\n",
      "Record located churapcha\n",
      "Record located alexandria\n",
      "Record located atuona\n",
      "Record located edd\n",
      "Record located mayor pablo lagerenza\n",
      "Record located saint george\n",
      "Record located san cristobal\n",
      "Record located padang\n",
      "rawannawi not found\n",
      "Record located yartsevo\n",
      "Record located ayan\n",
      "Record located lebu\n",
      "grand river south east not found\n",
      "Record located cabo san lucas\n",
      "Record located oistins\n",
      "Record located zigong\n",
      "Record located port lincoln\n",
      "Record located nikolskoye\n",
      "Record located san pedro\n",
      "Record located luau\n",
      "Record located lata\n",
      "Record located lonar\n",
      "Record located vila franca do campo\n",
      "Record located guayanilla\n",
      "Record located mitu\n",
      "Record located bathsheba\n",
      "Record located vardo\n",
      "naftah not found\n",
      "Record located high level\n",
      "Record located hofgeismar\n",
      "Record located codrington\n",
      "Record located fengzhen\n",
      "Record located kamaishi\n",
      "Record located klaksvik\n",
      "Record located kamwenge\n",
      "Record located teya\n",
      "Record located margate\n",
      "Record located talavera de la reina\n",
      "Record located ballina\n",
      "Record located thompson\n",
      "Record located berlevag\n",
      "Record located muros\n",
      "Record located la rioja\n",
      "banmo not found\n",
      "Record located isangel\n",
      "Record located frontera\n",
      "Record located tuatapere\n",
      "Record located inirida\n",
      "Record located linhares\n",
      "Record located santa\n",
      "Record located karasburg\n",
      "Record located cairns\n",
      "Record located kaspiyskiy\n",
      "Record located bethel\n",
      "Record located upernavik\n",
      "Record located taoudenni\n",
      "Record located tura\n",
      "Record located lompoc\n",
      "Record located pozo colorado\n",
      "Record located opuwo\n",
      "Record located naze\n",
      "Record located yatou\n",
      "Record located zyryanskoye\n",
      "Record located cayenne\n",
      "Record located the valley\n",
      "Record located norman wells\n",
      "Record located panuco\n",
      "Record located tocopilla\n",
      "Record located lalibela\n",
      "Record located mwene-ditu\n",
      "Record located fare\n",
      "Record located mount isa\n",
      "dzhusaly not found\n",
      "vaitupu not found\n",
      "Record located albertville\n",
      "Record located camara de lobos\n",
      "Record located winnemucca\n",
      "Record located chulman\n",
      "Record located kalat\n",
      "Record located yaan\n",
      "Record located kangaba\n",
      "samusu not found\n",
      "Record located sioux lookout\n",
      "Record located devonport\n",
      "Record located vestmannaeyjar\n",
      "Record located simao\n",
      "Record located caravelas\n",
      "Record located najran\n",
      "satitoa not found\n",
      "Record located gravdal\n",
      "Record located bilibino\n",
      "Record located esso\n",
      "Record located vestmanna\n",
      "Record located jalu\n",
      "Record located gayny\n",
      "Record located pierre\n",
      "Record located esmeraldas\n",
      "nizhneyansk not found\n",
      "Record located catamarca\n",
      "Record located baryshivka\n",
      "Record located adrar\n",
      "Record located kerema\n",
      "Record located coahuayana\n",
      "Record located port hedland\n",
      "Record located illapel\n",
      "Record located honiara\n",
      "Record located basco\n",
      "Record located fairbanks\n",
      "Record located hay river\n",
      "Record located methven\n",
      "umzimvubu not found\n",
      "Record located whithorn\n",
      "Record located sorong\n",
      "Record located lichinga\n",
      "Record located talnakh\n",
      "Record located tautira\n",
      "Record located katsuura\n",
      "Record located azangaro\n",
      "Record located beisfjord\n",
      "Record located gizycko\n",
      "Record located erenhot\n",
      "Record located svetlaya\n",
      "Record located solnechnyy\n",
      "Record located bushehr\n",
      "Record located rudbar\n",
      "Record located aloleng\n",
      "Record located krasnystaw\n",
      "Record located turukhansk\n",
      "Record located mangrol\n",
      "Record located stettler\n",
      "Record located vila velha\n",
      "Record located ust-ishim\n",
      "Record located san angelo\n",
      "Record located port elizabeth\n",
      "Record located alyangula\n",
      "Record located gewane\n",
      "Record located mount pleasant\n",
      "hihifo not found\n",
      "Record located morozovsk\n",
      "Record located stornoway\n",
      "Record located melivoia\n",
      "Record located vallenar\n",
      "Record located west lorne\n",
      "Record located kaeo\n",
      "Record located kahului\n",
      "Record located bulgan\n",
      "Record located floresta\n",
      "Record located eseka\n",
      "Record located degtyarsk\n",
      "Record located leticia\n",
      "Record located sayaxche\n",
      "Record located san jose\n",
      "Record located ngatea\n",
      "Record located mahanje\n",
      "Record located bredasdorp\n",
      "Record located clyde river\n",
      "Record located tombouctou\n",
      "Record located villanueva\n",
      "Record located hermon\n",
      "tuggurt not found\n",
      "Record located talara\n",
      "Record located doha\n",
      "Record located espumoso\n",
      "Record located saint-augustin\n",
      "Record located yulara\n",
      "bolungarvik not found\n",
      "Record located sept-iles\n",
      "belushya guba not found\n",
      "Record located esperance\n",
      "Record located ostrovnoy\n",
      "Record located sisimiut\n",
      "Record located alofi\n",
      "Record located makakilo city\n",
      "Record located namtsy\n",
      "Record located laguna\n",
      "Record located cody\n",
      "Record located cidreira\n",
      "Record located hofn\n",
      "Record located sharya\n",
      "Record located fort morgan\n",
      "Record located abu samrah\n",
      "Record located atambua\n",
      "Record located katherine\n",
      "Record located hare bay\n",
      "Record located los llanos de aridane\n",
      "Record located ambilobe\n",
      "Record located koungheul\n",
      "Record located ust-nera\n",
      "Record located rudnichnyy\n",
      "Record located nogliki\n",
      "barentsburg not found\n",
      "Record located espanola\n",
      "Record located ca mau\n",
      "Record located dourbali\n",
      "yirol not found\n",
      "Record located san jeronimo\n",
      "Record located linjiang\n",
      "Record located mahajanga\n",
      "Record located pundaguitan\n",
      "tumannyy not found\n",
      "Record located vao\n",
      "Record located kosonsoy\n",
      "Record located prince rupert\n",
      "Record located wodonga\n",
      "Record located kutum\n",
      "Record located camacha\n",
      "Record located aksu\n",
      "Record located kintinku\n",
      "Record located saint-philippe\n",
      "Record located lewisporte\n",
      "Record located port hardy\n",
      "Record located jammalamadugu\n",
      "Record located grodzisk wielkopolski\n",
      "Record located asau\n",
      "Record located poya\n"
     ]
    },
    {
     "name": "stdout",
     "output_type": "stream",
     "text": [
      "Record located scottsbluff\n",
      "Record located sovetskiy\n",
      "Record located arroyo\n",
      "Record located micheweni\n",
      "Record located matara\n",
      "Record located cosolapa\n",
      "Record located kitimat\n",
      "khonuu not found\n",
      "Record located sterling\n",
      "Record located hayvoron\n",
      "Record located kamalpur\n",
      "Record located lev tolstoy\n",
      "Record located guerrero negro\n",
      "Record located hambantota\n",
      "Record located leningradskiy\n",
      "Record located tilichiki\n",
      "linapacan not found\n",
      "Record located tigard\n",
      "Record located roma\n",
      "Record located kindu\n",
      "Record located paraiso\n",
      "Record located zyryanka\n",
      "Record located pafos\n",
      "Record located pedtad\n",
      "attawapiskat not found\n",
      "Record located shaoguan\n",
      "Record located torbay\n",
      "Record located goure\n",
      "Record located binucayan\n",
      "samalaeulu not found\n",
      "Record located abha\n",
      "Record located kruisfontein\n",
      "Record located shingu\n",
      "Record located severo-kurilsk\n",
      "Record located ostersund\n",
      "Record located maniitsoq\n",
      "Record located burnie\n",
      "skagastrond not found\n",
      "Record located bilma\n",
      "Record located fort nelson\n",
      "Record located kalianget\n",
      "Record located hovd\n",
      "Record located beloha\n",
      "Record located ancud\n",
      "Record located fowa\n",
      "Record located vila do maio\n",
      "Record located sa kaeo\n",
      "Record located rundu\n",
      "Record located salalah\n",
      "Record located portree\n",
      "Record located karratha\n",
      "Record located coari\n",
      "Record located san quintin\n",
      "Record located cumberland\n",
      "Record located chapais\n",
      "Record located wadi maliz\n",
      "Record located evensk\n",
      "Record located bonga\n",
      "Record located susanville\n",
      "Record located newport\n",
      "Record located orlandia\n",
      "Record located lavrentiya\n",
      "Record located dudinka\n",
      "Record located mahibadhoo\n",
      "Record located srednekolymsk\n",
      "Record located kybartai\n",
      "Record located sheltozero\n",
      "Record located daru\n",
      "Record located marsabit\n",
      "Record located bismarck\n",
      "Record located nuevo progreso\n",
      "Record located khuzhir\n",
      "Record located belmonte\n",
      "Record located fort dix\n",
      "Record located hami\n",
      "Record located bengkulu\n",
      "Record located namatanai\n",
      "Record located agdas\n",
      "Record located tarauaca\n",
      "Record located narsaq\n",
      "Record located kavieng\n",
      "Record located faya\n",
      "Record located kudahuvadhoo\n",
      "Record located waw\n",
      "Record located paamiut\n",
      "Record located bud\n",
      "Record located qeshm\n",
      "ngukurr not found\n",
      "Record located aklavik\n",
      "lolua not found\n",
      "Record located ambon\n",
      "Record located warka\n",
      "Record located shenjiamen\n",
      "Record located ulladulla\n",
      "Record located fukue\n",
      "Record located seymchan\n",
      "Record located poum\n",
      "Record located luganville\n",
      "Record located melfi\n",
      "Record located puri\n",
      "Record located dawei\n",
      "Record located verkhoyansk\n",
      "Record located mabaruma\n",
      "Record located altamont\n",
      "Record located sao filipe\n",
      "Record located moerai\n",
      "krasnoyarsk-66 not found\n",
      "Record located chissamba\n",
      "Record located pacific grove\n",
      "Record located san ignacio\n",
      "Record located te anau\n",
      "Record located flinders\n",
      "Record located kalmunai\n",
      "Record located saskylakh\n",
      "Record located mayo\n",
      "Record located broome\n",
      "Record located manturovo\n",
      "Record located nyurba\n",
      "Record located alta floresta\n",
      "Record located vicente guerrero\n",
      "Record located almaznyy\n",
      "Record located necochea\n",
      "Record located labuhan\n",
      "Record located lorengau\n",
      "Record located ruhengeri\n",
      "Record located teguise\n",
      "Record located vyartsilya\n",
      "aflu not found\n",
      "Record located sambava\n",
      "Record located yumen\n",
      "Record located bam\n",
      "Record located karymskoye\n",
      "Record located luanda\n",
      "Record located utiel\n",
      "Record located aswan\n",
      "Record located soyo\n",
      "Record located kuching\n",
      "Record located tongchuan\n",
      "Record located buraydah\n",
      "Record located palestina\n",
      "Record located polunochnoye\n",
      "Record located tete\n",
      "Record located riverton\n",
      "Record located vostok\n",
      "Record located chicama\n",
      "Record located hasaki\n",
      "Record located secovce\n",
      "Record located san andres\n",
      "Record located great yarmouth\n",
      "sahrak not found\n",
      "Record located batagay-alyta\n",
      "Record located batagay\n",
      "Record located dingalan\n",
      "Record located touros\n",
      "Record located shirokiy\n",
      "burica not found\n",
      "Record located magdagachi\n",
      "Record located gazanjyk\n",
      "Record located buala\n",
      "Record located bhatapara\n",
      "Record located muzhi\n",
      "Record located nanortalik\n",
      "palabuhanratu not found\n",
      "Record located buchanan\n",
      "Record located sohag\n",
      "Record located lipari\n",
      "Record located muli\n",
      "Record located barranca\n",
      "Record located vila\n",
      "Record located baherove\n",
      "Record located sakakah\n",
      "Record located ilulissat\n",
      "Record located socorro\n",
      "Record located nusaybin\n",
      "Record located peterborough\n",
      "Record located saint-joseph\n",
      "ayios petros not found\n",
      "Record located shimoda\n",
      "Record located jaisalmer\n",
      "Record located fortuna\n",
      "Record located nichinan\n",
      "Record located dobson\n",
      "Record located sao joao da barra\n",
      "Record located mantua\n",
      "Record located constitucion\n",
      "Record located itoman\n",
      "Record located ilheus\n",
      "Record located manokwari\n",
      "hunza not found\n",
      "Record located surt\n",
      "Record located sur\n",
      "Record located saint-pierre\n",
      "Record located deputatskiy\n",
      "Record located tiverton\n",
      "Record located pasighat\n",
      "Record located lisakovsk\n",
      "Record located thinadhoo\n",
      "Record located guaruja\n",
      "Record located olden\n",
      "Record located la ronge\n",
      "Record located brae\n",
      "Record located san patricio\n",
      "Record located waddan\n",
      "Record located bara\n",
      "Record located hammerfest\n",
      "Record located nowy dwor gdanski\n",
      "Record located atar\n",
      "Record located thessalon\n",
      "Record located fairlie\n",
      "Record located piacabucu\n",
      "Record located rocha\n",
      "Record located adre\n",
      "Record located tororo\n",
      "Record located selenginsk\n",
      "Record located north platte\n",
      "Record located olafsvik\n",
      "Record located nome\n",
      "Record located ahuimanu\n",
      "Record located salekhard\n",
      "Record located coquimbo\n",
      "Record located nanga eboko\n",
      "Record located beringovskiy\n",
      "Record located dauriya\n",
      "Record located nautla\n",
      "Record located beni mazar\n",
      "Record located clearlake\n",
      "Record located wairoa\n",
      "Record located muisne\n",
      "longlac not found\n",
      "chikoy not found\n",
      "Record located llangefni\n",
      "kegayli not found\n",
      "Record located kalispell\n",
      "Record located santa rita\n",
      "Record located baijiantan\n",
      "Record located nicolas bravo\n",
      "Record located yar-sale\n",
      "Record located port-cartier\n",
      "Record located xiamen\n",
      "Record located havre-saint-pierre\n",
      "Record located lopatyn\n",
      "Record located gouyave\n",
      "Record located iranshahr\n",
      "Record located saldanha\n",
      "Record located san luis\n",
      "Record located aykhal\n",
      "Record located songjianghe\n",
      "Record located buique\n",
      "Record located nishihara\n",
      "kamenskoye not found\n",
      "Record located flin flon\n",
      "Record located cabimas\n",
      "Record located kota kinabalu\n",
      "Record located belfast\n",
      "ruatoria not found\n",
      "Record located pisco\n",
      "Record located grindavik\n",
      "Record located wexford\n",
      "Record located mae hong son\n",
      "------------------------------\n",
      "Data Retrieval Complete\n",
      "------------------------------\n"
     ]
    }
   ],
   "source": [
    "record = 1 \n",
    "sets = 1\n",
    "\n",
    "city_list = []\n",
    "\n",
    "for index, city in enumerate(cities):\n",
    "         \n",
    "    if record == 50:\n",
    "            record += 1\n",
    "            sets +=1\n",
    "            time.sleep(60)\n",
    "            \n",
    "    try:\n",
    "        url = \"http://api.openweathermap.org/data/2.5/weather?units=Imperial&APPID=\" + weather_api_key\n",
    "        url = url + \"&q=\"+ city.replace(\" \", \"+\")\n",
    "        response = requests.get(url).json()\n",
    "                            \n",
    "        city_lat = response['coord']['lat']\n",
    "        city_lon = response['coord']['lon']\n",
    "        city_temp = response['main']['temp_max']\n",
    "        city_humidity = response['main']['humidity']\n",
    "        city_clouds = response['clouds']['all']\n",
    "        city_wind = response['wind']['speed']\n",
    "        city_country = response['sys']['country']\n",
    "        city_description = response['weather'][0]['description']\n",
    "        \n",
    "        city_list.append({\n",
    "            \"city\": city, \n",
    "            \"lat\": city_lat,\n",
    "            \"lon\": city_lon,\n",
    "            \"temp_max\": city_temp,\n",
    "            \"humidity\": city_humidity,\n",
    "            \"clouds\": city_clouds,\n",
    "            \"wind\": city_wind,\n",
    "            \"country\": city_country,\n",
    "            \"description\": city_description\n",
    "        })      \n",
    "        \n",
    "        print(f\"Record located {city}\")\n",
    "       \n",
    "    \n",
    "    except:\n",
    "        print(f\"{city} not found\")\n",
    "        record +=1\n",
    "        \n",
    "        \n",
    "              \n",
    "print(\"------------------------------\\nData Retrieval Complete\\n------------------------------\") \n"
   ]
  },
  {
   "cell_type": "markdown",
   "metadata": {},
   "source": [
    "### Convert Raw Data to DataFrame\n",
    "* Export the city data into a .csv.\n",
    "* Display the DataFrame"
   ]
  },
  {
   "cell_type": "code",
   "execution_count": 102,
   "metadata": {},
   "outputs": [],
   "source": [
    "# Export data into csv\n",
    "cities_df.to_csv(\"weather_check_output.csv\")"
   ]
  },
  {
   "cell_type": "code",
   "execution_count": 103,
   "metadata": {},
   "outputs": [],
   "source": [
    "#Output of csv file"
   ]
  },
  {
   "cell_type": "code",
   "execution_count": 104,
   "metadata": {},
   "outputs": [
    {
     "data": {
      "text/html": [
       "<div>\n",
       "<style scoped>\n",
       "    .dataframe tbody tr th:only-of-type {\n",
       "        vertical-align: middle;\n",
       "    }\n",
       "\n",
       "    .dataframe tbody tr th {\n",
       "        vertical-align: top;\n",
       "    }\n",
       "\n",
       "    .dataframe thead th {\n",
       "        text-align: right;\n",
       "    }\n",
       "</style>\n",
       "<table border=\"1\" class=\"dataframe\">\n",
       "  <thead>\n",
       "    <tr style=\"text-align: right;\">\n",
       "      <th></th>\n",
       "      <th>city</th>\n",
       "      <th>lat</th>\n",
       "      <th>lon</th>\n",
       "      <th>temp_max</th>\n",
       "      <th>humidity</th>\n",
       "      <th>clouds</th>\n",
       "      <th>wind</th>\n",
       "      <th>country</th>\n",
       "      <th>description</th>\n",
       "    </tr>\n",
       "  </thead>\n",
       "  <tbody>\n",
       "    <tr>\n",
       "      <th>0</th>\n",
       "      <td>luderitz</td>\n",
       "      <td>-26.65</td>\n",
       "      <td>15.16</td>\n",
       "      <td>56.34</td>\n",
       "      <td>89</td>\n",
       "      <td>1</td>\n",
       "      <td>14.45</td>\n",
       "      <td>NA</td>\n",
       "      <td>clear sky</td>\n",
       "    </tr>\n",
       "    <tr>\n",
       "      <th>1</th>\n",
       "      <td>dikson</td>\n",
       "      <td>73.51</td>\n",
       "      <td>80.55</td>\n",
       "      <td>10.60</td>\n",
       "      <td>95</td>\n",
       "      <td>84</td>\n",
       "      <td>17.78</td>\n",
       "      <td>RU</td>\n",
       "      <td>broken clouds</td>\n",
       "    </tr>\n",
       "    <tr>\n",
       "      <th>2</th>\n",
       "      <td>jamestown</td>\n",
       "      <td>42.10</td>\n",
       "      <td>-79.24</td>\n",
       "      <td>43.00</td>\n",
       "      <td>100</td>\n",
       "      <td>90</td>\n",
       "      <td>2.68</td>\n",
       "      <td>US</td>\n",
       "      <td>overcast clouds</td>\n",
       "    </tr>\n",
       "    <tr>\n",
       "      <th>3</th>\n",
       "      <td>mataura</td>\n",
       "      <td>-46.19</td>\n",
       "      <td>168.86</td>\n",
       "      <td>57.00</td>\n",
       "      <td>67</td>\n",
       "      <td>75</td>\n",
       "      <td>8.99</td>\n",
       "      <td>NZ</td>\n",
       "      <td>broken clouds</td>\n",
       "    </tr>\n",
       "    <tr>\n",
       "      <th>4</th>\n",
       "      <td>rikitea</td>\n",
       "      <td>-23.12</td>\n",
       "      <td>-134.97</td>\n",
       "      <td>75.54</td>\n",
       "      <td>86</td>\n",
       "      <td>100</td>\n",
       "      <td>15.08</td>\n",
       "      <td>PF</td>\n",
       "      <td>light rain</td>\n",
       "    </tr>\n",
       "    <tr>\n",
       "      <th>...</th>\n",
       "      <td>...</td>\n",
       "      <td>...</td>\n",
       "      <td>...</td>\n",
       "      <td>...</td>\n",
       "      <td>...</td>\n",
       "      <td>...</td>\n",
       "      <td>...</td>\n",
       "      <td>...</td>\n",
       "      <td>...</td>\n",
       "    </tr>\n",
       "    <tr>\n",
       "      <th>549</th>\n",
       "      <td>belfast</td>\n",
       "      <td>54.58</td>\n",
       "      <td>-5.93</td>\n",
       "      <td>43.00</td>\n",
       "      <td>93</td>\n",
       "      <td>100</td>\n",
       "      <td>2.24</td>\n",
       "      <td>GB</td>\n",
       "      <td>overcast clouds</td>\n",
       "    </tr>\n",
       "    <tr>\n",
       "      <th>550</th>\n",
       "      <td>pisco</td>\n",
       "      <td>-13.70</td>\n",
       "      <td>-76.22</td>\n",
       "      <td>63.00</td>\n",
       "      <td>77</td>\n",
       "      <td>0</td>\n",
       "      <td>6.93</td>\n",
       "      <td>PE</td>\n",
       "      <td>clear sky</td>\n",
       "    </tr>\n",
       "    <tr>\n",
       "      <th>551</th>\n",
       "      <td>grindavik</td>\n",
       "      <td>63.84</td>\n",
       "      <td>-22.43</td>\n",
       "      <td>37.40</td>\n",
       "      <td>74</td>\n",
       "      <td>75</td>\n",
       "      <td>24.16</td>\n",
       "      <td>IS</td>\n",
       "      <td>broken clouds</td>\n",
       "    </tr>\n",
       "    <tr>\n",
       "      <th>552</th>\n",
       "      <td>wexford</td>\n",
       "      <td>52.33</td>\n",
       "      <td>-6.46</td>\n",
       "      <td>52.00</td>\n",
       "      <td>93</td>\n",
       "      <td>100</td>\n",
       "      <td>8.01</td>\n",
       "      <td>IE</td>\n",
       "      <td>light rain</td>\n",
       "    </tr>\n",
       "    <tr>\n",
       "      <th>553</th>\n",
       "      <td>mae hong son</td>\n",
       "      <td>19.30</td>\n",
       "      <td>97.97</td>\n",
       "      <td>80.60</td>\n",
       "      <td>74</td>\n",
       "      <td>40</td>\n",
       "      <td>2.24</td>\n",
       "      <td>TH</td>\n",
       "      <td>scattered clouds</td>\n",
       "    </tr>\n",
       "  </tbody>\n",
       "</table>\n",
       "<p>554 rows × 9 columns</p>\n",
       "</div>"
      ],
      "text/plain": [
       "             city    lat     lon  temp_max  humidity  clouds   wind country  \\\n",
       "0        luderitz -26.65   15.16     56.34        89       1  14.45      NA   \n",
       "1          dikson  73.51   80.55     10.60        95      84  17.78      RU   \n",
       "2       jamestown  42.10  -79.24     43.00       100      90   2.68      US   \n",
       "3         mataura -46.19  168.86     57.00        67      75   8.99      NZ   \n",
       "4         rikitea -23.12 -134.97     75.54        86     100  15.08      PF   \n",
       "..            ...    ...     ...       ...       ...     ...    ...     ...   \n",
       "549       belfast  54.58   -5.93     43.00        93     100   2.24      GB   \n",
       "550         pisco -13.70  -76.22     63.00        77       0   6.93      PE   \n",
       "551     grindavik  63.84  -22.43     37.40        74      75  24.16      IS   \n",
       "552       wexford  52.33   -6.46     52.00        93     100   8.01      IE   \n",
       "553  mae hong son  19.30   97.97     80.60        74      40   2.24      TH   \n",
       "\n",
       "          description  \n",
       "0           clear sky  \n",
       "1       broken clouds  \n",
       "2     overcast clouds  \n",
       "3       broken clouds  \n",
       "4          light rain  \n",
       "..                ...  \n",
       "549   overcast clouds  \n",
       "550         clear sky  \n",
       "551     broken clouds  \n",
       "552        light rain  \n",
       "553  scattered clouds  \n",
       "\n",
       "[554 rows x 9 columns]"
      ]
     },
     "execution_count": 104,
     "metadata": {},
     "output_type": "execute_result"
    }
   ],
   "source": [
    "#Create DataFrame\n",
    "cities_df = pd.DataFrame(city_list)\n",
    "\n",
    "cities_df"
   ]
  },
  {
   "cell_type": "markdown",
   "metadata": {},
   "source": [
    "## Inspect the data and remove the cities where the humidity > 100%.\n",
    "----\n",
    "Skip this step if there are no cities that have humidity > 100%. "
   ]
  },
  {
   "cell_type": "markdown",
   "metadata": {},
   "source": [
    "## Plotting the Data\n",
    "* Use proper labeling of the plots using plot titles (including date of analysis) and axes labels.\n",
    "* Save the plotted figures as .pngs."
   ]
  },
  {
   "cell_type": "markdown",
   "metadata": {},
   "source": [
    "## Latitude vs. Temperature Plot"
   ]
  },
  {
   "cell_type": "code",
   "execution_count": 106,
   "metadata": {
    "scrolled": false
   },
   "outputs": [
    {
     "data": {
      "image/png": "[encoded data removed]",
      "text/plain": [
       "<Figure size 432x288 with 1 Axes>"
      ]
     },
     "metadata": {
      "needs_background": "light"
     },
     "output_type": "display_data"
    },
    {
     "name": "stdout",
     "output_type": "stream",
     "text": [
      "My Analysis\n"
     ]
    }
   ],
   "source": [
    "plt.scatter(cities_df[\"lat\"], cities_df[\"temp_max\"], marker = \"o\")\n",
    "plt.title(\"Latitude vs. Temperature\")\n",
    "plt.xlabel(\"Latitude\")\n",
    "plt.ylabel(\"Temperature\")\n",
    "\n",
    "plt.savefig(\"Pics/Temperature.png\")\n",
    "plt.show()\n",
    "\n",
    "print(\"My Analysis\")"
   ]
  },
  {
   "cell_type": "markdown",
   "metadata": {},
   "source": [
    "## Latitude vs. Humidity Plot"
   ]
  },
  {
   "cell_type": "code",
   "execution_count": 107,
   "metadata": {},
   "outputs": [
    {
     "data": {
      "image/png": "[encoded data removed]",
      "text/plain": [
       "<Figure size 432x288 with 1 Axes>"
      ]
     },
     "metadata": {
      "needs_background": "light"
     },
     "output_type": "display_data"
    },
    {
     "name": "stdout",
     "output_type": "stream",
     "text": [
      "My Analysis\n"
     ]
    }
   ],
   "source": [
    "plt.scatter(cities_df[\"lat\"], cities_df[\"humidity\"], marker = \"o\")\n",
    "plt.title(\"Latitude vs. Humidity\")\n",
    "plt.xlabel(\"Latitude\")\n",
    "plt.ylabel(\"Humidity\")\n",
    "\n",
    "plt.savefig(\"Pics/Humidity.png\")\n",
    "plt.show()\n",
    "\n",
    "print(\"My Analysis\")"
   ]
  },
  {
   "cell_type": "markdown",
   "metadata": {},
   "source": [
    "## Latitude vs. Cloudiness Plot"
   ]
  },
  {
   "cell_type": "code",
   "execution_count": 108,
   "metadata": {},
   "outputs": [
    {
     "data": {
      "image/png": "[encoded data removed]",
      "text/plain": [
       "<Figure size 432x288 with 1 Axes>"
      ]
     },
     "metadata": {
      "needs_background": "light"
     },
     "output_type": "display_data"
    },
    {
     "name": "stdout",
     "output_type": "stream",
     "text": [
      "My Analysis\n"
     ]
    }
   ],
   "source": [
    "plt.scatter(cities_df[\"lat\"], cities_df[\"clouds\"], marker = \"o\")\n",
    "plt.title(\"Latitude vs. Cloudiness\")\n",
    "plt.xlabel(\"Latitude\")\n",
    "plt.ylabel(\"Cloudiness (%)\")\n",
    "\n",
    "plt.savefig(\"Pics/Cloudiness.png\")\n",
    "plt.show()\n",
    "\n",
    "print(\"My Analysis\")"
   ]
  },
  {
   "cell_type": "markdown",
   "metadata": {},
   "source": [
    "## Latitude vs. Wind Speed Plot"
   ]
  },
  {
   "cell_type": "code",
   "execution_count": 109,
   "metadata": {},
   "outputs": [
    {
     "data": {
      "image/png": "[encoded data removed]",
      "text/plain": [
       "<Figure size 432x288 with 1 Axes>"
      ]
     },
     "metadata": {
      "needs_background": "light"
     },
     "output_type": "display_data"
    },
    {
     "name": "stdout",
     "output_type": "stream",
     "text": [
      "My Analysis\n"
     ]
    }
   ],
   "source": [
    "plt.scatter(cities_df[\"lat\"], cities_df[\"wind\"], marker = \"o\")\n",
    "plt.title(\"Latitude vs. Wind\")\n",
    "plt.xlabel(\"Latitude\")\n",
    "plt.ylabel(\"Wind\")\n",
    "\n",
    "plt.savefig(\"Pics/Wind_Speed.png\")\n",
    "plt.show()\n",
    "\n",
    "print(\"My Analysis\")"
   ]
  },
  {
   "cell_type": "markdown",
   "metadata": {},
   "source": [
    "## Linear Regression"
   ]
  },
  {
   "cell_type": "code",
   "execution_count": 126,
   "metadata": {},
   "outputs": [],
   "source": [
    "#Northern and Southern Hemisphere DataFrames\n",
    "northern_df = cities_df.loc[cities_df[\"lat\"].astype(float) > 0]\n",
    "southern_df = cities_df.loc[cities_df[\"lat\"].astype(float) < 0]"
   ]
  },
  {
   "cell_type": "markdown",
   "metadata": {},
   "source": [
    "####  Northern Hemisphere - Max Temp vs. Latitude Linear Regression"
   ]
  },
  {
   "cell_type": "code",
   "execution_count": 128,
   "metadata": {},
   "outputs": [
    {
     "name": "stdout",
     "output_type": "stream",
     "text": [
      "Regression line equation is: y= -1.02x+ 92.07\n",
      "The r-squared is: 0.7452866613855671\n"
     ]
    },
    {
     "data": {
      "image/png": "[encoded data removed]",
      "text/plain": [
       "<Figure size 432x288 with 1 Axes>"
      ]
     },
     "metadata": {
      "needs_background": "light"
     },
     "output_type": "display_data"
    },
    {
     "name": "stdout",
     "output_type": "stream",
     "text": [
      "My Analysis\n"
     ]
    }
   ],
   "source": [
    "#Run Linear Regression Data\n",
    "x_values = northern_df[\"lat\"]\n",
    "y_values = northern_df[\"temp_max\"]\n",
    "\n",
    "(slope, intercept, rvalue, pbalue, stderr) = linregress(x_values, y_values)\n",
    "\n",
    "regress_values = x_values * slope + intercept\n",
    "line_eq = \"y= \" + str(round(slope,2)) + \"x+ \" + str(round(intercept,2))\n",
    "\n",
    "#Plot scatter plot\n",
    "plt.scatter(x_values,y_values)\n",
    "\n",
    "#Plot regression line\n",
    "plt.plot(x_values,regress_values,\"r--\")\n",
    "plt.annotate(line_eq,(0,50), fontsize = 10, color = \"red\")\n",
    "\n",
    "#Title & Axis labels\n",
    "plt.title(\"Northern Hemisphere - Max Temp vs. Latitude\")\n",
    "plt.xlabel(\"Latitude\")\n",
    "plt.ylabel(\"Max Temp (F)\")\n",
    "\n",
    "print(f\"Regression line equation is: {line_eq}\")\n",
    "print(f\"The r-squared is: {rvalue**2}\")\n",
    "\n",
    "plt.savefig(\"Pics/NorthernHem_MaxTempvs.Lat.png\")\n",
    "plt.show()\n",
    "\n",
    "print(\"My Analysis\")\n"
   ]
  },
  {
   "cell_type": "markdown",
   "metadata": {},
   "source": [
    "####  Southern Hemisphere - Max Temp vs. Latitude Linear Regression"
   ]
  },
  {
   "cell_type": "code",
   "execution_count": 129,
   "metadata": {},
   "outputs": [
    {
     "name": "stdout",
     "output_type": "stream",
     "text": [
      "Regression line equation is: y= 0.52x+ 81.09\n",
      "The r-squared is: 0.3956366547400148\n"
     ]
    },
    {
     "data": {
      "image/png": "[encoded data removed]",
      "text/plain": [
       "<Figure size 432x288 with 1 Axes>"
      ]
     },
     "metadata": {
      "needs_background": "light"
     },
     "output_type": "display_data"
    },
    {
     "name": "stdout",
     "output_type": "stream",
     "text": [
      "My Analysis\n"
     ]
    }
   ],
   "source": [
    "#Run Linear Regression Data\n",
    "x_values = southern_df[\"lat\"]\n",
    "y_values = southern_df[\"temp_max\"]\n",
    "\n",
    "(slope, intercept, rvalue, pbalue, stderr) = linregress(x_values, y_values)\n",
    "\n",
    "regress_values = x_values * slope + intercept\n",
    "line_eq = \"y= \" + str(round(slope,2)) + \"x+ \" + str(round(intercept,2))\n",
    "\n",
    "#Plot scatter plot\n",
    "plt.scatter(x_values,y_values)\n",
    "\n",
    "#Plot regression line\n",
    "plt.plot(x_values,regress_values,\"r--\")\n",
    "plt.annotate(line_eq,(0,50), fontsize = 10, color = \"red\")\n",
    "\n",
    "#Title & Axis labels\n",
    "plt.title(\"Southern Hemisphere - Max Temp vs. Latitude\")\n",
    "plt.xlabel(\"Latitude\")\n",
    "plt.ylabel(\"Max Temp (F)\")\n",
    "\n",
    "print(f\"Regression line equation is: {line_eq}\")\n",
    "print(f\"The r-squared is: {rvalue**2}\")\n",
    "\n",
    "plt.savefig(\"Pics/SouthernHem_MaxTempvs.Lat.png\")\n",
    "plt.show()\n",
    "\n",
    "print(\"My Analysis\")"
   ]
  },
  {
   "cell_type": "markdown",
   "metadata": {},
   "source": [
    "####  Northern Hemisphere - Humidity (%) vs. Latitude Linear Regression"
   ]
  },
  {
   "cell_type": "code",
   "execution_count": 130,
   "metadata": {},
   "outputs": [
    {
     "name": "stdout",
     "output_type": "stream",
     "text": [
      "Regression line equation is: y= 0.37x+ 59.04\n",
      "The r-squared is: 0.1076627780874588\n"
     ]
    },
    {
     "data": {
      "image/png": "[encoded data removed]",
      "text/plain": [
       "<Figure size 432x288 with 1 Axes>"
      ]
     },
     "metadata": {
      "needs_background": "light"
     },
     "output_type": "display_data"
    },
    {
     "name": "stdout",
     "output_type": "stream",
     "text": [
      "My Analysis\n"
     ]
    }
   ],
   "source": [
    "#Run Linear Regression Data\n",
    "x_values = northern_df[\"lat\"]\n",
    "y_values = northern_df[\"humidity\"]\n",
    "\n",
    "(slope, intercept, rvalue, pbalue, stderr) = linregress(x_values, y_values)\n",
    "\n",
    "regress_values = x_values * slope + intercept\n",
    "line_eq = \"y= \" + str(round(slope,2)) + \"x+ \" + str(round(intercept,2))\n",
    "\n",
    "#Plot scatter plot\n",
    "plt.scatter(x_values,y_values)\n",
    "\n",
    "#Plot regression line\n",
    "plt.plot(x_values,regress_values,\"r--\")\n",
    "plt.annotate(line_eq,(0,50), fontsize = 10, color = \"red\")\n",
    "\n",
    "#Title & Axis labels\n",
    "plt.title(\"Northern Hemisphere - Humidity (%) vs. Latitude\")\n",
    "plt.xlabel(\"Latitude\")\n",
    "plt.ylabel(\"Humidity (%)\")\n",
    "\n",
    "print(f\"Regression line equation is: {line_eq}\")\n",
    "print(f\"The r-squared is: {rvalue**2}\")\n",
    "\n",
    "plt.savefig(\"Pics/NorthernHem_Humidityvs.Lat.png\")\n",
    "plt.show()\n",
    "\n",
    "print(\"My Analysis\")"
   ]
  },
  {
   "cell_type": "markdown",
   "metadata": {},
   "source": [
    "####  Southern Hemisphere - Humidity (%) vs. Latitude Linear Regression"
   ]
  },
  {
   "cell_type": "code",
   "execution_count": 131,
   "metadata": {},
   "outputs": [
    {
     "name": "stdout",
     "output_type": "stream",
     "text": [
      "Regression line equation is: y= 0.27x+ 78.25\n",
      "The r-squared is: 0.03472291576940241\n"
     ]
    },
    {
     "data": {
      "image/png": "[encoded data removed]",
      "text/plain": [
       "<Figure size 432x288 with 1 Axes>"
      ]
     },
     "metadata": {
      "needs_background": "light"
     },
     "output_type": "display_data"
    },
    {
     "name": "stdout",
     "output_type": "stream",
     "text": [
      "My Analysis\n"
     ]
    }
   ],
   "source": [
    "#Run Linear Regression Data\n",
    "x_values = southern_df[\"lat\"]\n",
    "y_values = southern_df[\"humidity\"]\n",
    "\n",
    "(slope, intercept, rvalue, pbalue, stderr) = linregress(x_values, y_values)\n",
    "\n",
    "regress_values = x_values * slope + intercept\n",
    "line_eq = \"y= \" + str(round(slope,2)) + \"x+ \" + str(round(intercept,2))\n",
    "\n",
    "#Plot scatter plot\n",
    "plt.scatter(x_values,y_values)\n",
    "\n",
    "#Plot regression line\n",
    "plt.plot(x_values,regress_values,\"r--\")\n",
    "plt.annotate(line_eq,(0,50), fontsize = 10, color = \"red\")\n",
    "\n",
    "#Title & Axis labels\n",
    "plt.title(\"Southern Hemisphere - Humidity (%) vs. Latitude\")\n",
    "plt.xlabel(\"Latitude\")\n",
    "plt.ylabel(\"Humidity (%)\")\n",
    "\n",
    "print(f\"Regression line equation is: {line_eq}\")\n",
    "print(f\"The r-squared is: {rvalue**2}\")\n",
    "\n",
    "plt.savefig(\"Pics/SouthernHem_Humidityvs.Lat.png\")\n",
    "plt.show()\n",
    "\n",
    "print(\"My Analysis\")"
   ]
  },
  {
   "cell_type": "markdown",
   "metadata": {},
   "source": [
    "####  Northern Hemisphere - Cloudiness (%) vs. Latitude Linear Regression"
   ]
  },
  {
   "cell_type": "code",
   "execution_count": 132,
   "metadata": {},
   "outputs": [
    {
     "name": "stdout",
     "output_type": "stream",
     "text": [
      "Regression line equation is: y= 0.38x+ 37.01\n",
      "The r-squared is: 0.03581420069518962\n"
     ]
    },
    {
     "data": {
      "image/png": "[encoded data removed]",
      "text/plain": [
       "<Figure size 432x288 with 1 Axes>"
      ]
     },
     "metadata": {
      "needs_background": "light"
     },
     "output_type": "display_data"
    },
    {
     "name": "stdout",
     "output_type": "stream",
     "text": [
      "My Analysis\n"
     ]
    }
   ],
   "source": [
    "#Run Linear Regression Data\n",
    "x_values = northern_df[\"lat\"]\n",
    "y_values = northern_df[\"clouds\"]\n",
    "\n",
    "(slope, intercept, rvalue, pbalue, stderr) = linregress(x_values, y_values)\n",
    "\n",
    "regress_values = x_values * slope + intercept\n",
    "line_eq = \"y= \" + str(round(slope,2)) + \"x+ \" + str(round(intercept,2))\n",
    "\n",
    "#Plot scatter plot\n",
    "plt.scatter(x_values,y_values)\n",
    "\n",
    "#Plot regression line\n",
    "plt.plot(x_values,regress_values,\"r--\")\n",
    "plt.annotate(line_eq,(0,50), fontsize = 10, color = \"red\")\n",
    "\n",
    "#Title & Axis labels\n",
    "plt.title(\"Northern Hemisphere - Cloudiness (%) vs. Latitude\")\n",
    "plt.xlabel(\"Latitude\")\n",
    "plt.ylabel(\"Cloudiness (%)\")\n",
    "\n",
    "print(f\"Regression line equation is: {line_eq}\")\n",
    "print(f\"The r-squared is: {rvalue**2}\")\n",
    "\n",
    "plt.savefig(\"Pics/NorthernHem_Cloudinessvs.Lat.png\")\n",
    "plt.show()\n",
    "\n",
    "print(\"My Analysis\")"
   ]
  },
  {
   "cell_type": "markdown",
   "metadata": {},
   "source": [
    "####  Southern Hemisphere - Cloudiness (%) vs. Latitude Linear Regression"
   ]
  },
  {
   "cell_type": "code",
   "execution_count": 133,
   "metadata": {},
   "outputs": [
    {
     "name": "stdout",
     "output_type": "stream",
     "text": [
      "Regression line equation is: y= 0.32x+ 58.38\n",
      "The r-squared is: 0.012798087015448704\n"
     ]
    },
    {
     "data": {
      "image/png": "[encoded data removed]",
      "text/plain": [
       "<Figure size 432x288 with 1 Axes>"
      ]
     },
     "metadata": {
      "needs_background": "light"
     },
     "output_type": "display_data"
    },
    {
     "name": "stdout",
     "output_type": "stream",
     "text": [
      "My Analysis\n"
     ]
    }
   ],
   "source": [
    "#Run Linear Regression Data\n",
    "x_values = southern_df[\"lat\"]\n",
    "y_values = southern_df[\"clouds\"]\n",
    "\n",
    "(slope, intercept, rvalue, pbalue, stderr) = linregress(x_values, y_values)\n",
    "\n",
    "regress_values = x_values * slope + intercept\n",
    "line_eq = \"y= \" + str(round(slope,2)) + \"x+ \" + str(round(intercept,2))\n",
    "\n",
    "#Plot scatter plot\n",
    "plt.scatter(x_values,y_values)\n",
    "\n",
    "#Plot regression line\n",
    "plt.plot(x_values,regress_values,\"r--\")\n",
    "plt.annotate(line_eq,(0,50), fontsize = 10, color = \"red\")\n",
    "\n",
    "#Title & Axis labels\n",
    "plt.title(\"Southern Hemisphere - Cloudiness (%) vs. Latitude\")\n",
    "plt.xlabel(\"Latitude\")\n",
    "plt.ylabel(\"Cloudiness (%)\")\n",
    "\n",
    "print(f\"Regression line equation is: {line_eq}\")\n",
    "print(f\"The r-squared is: {rvalue**2}\")\n",
    "\n",
    "plt.savefig(\"Pics/SouthernHem_Cloudinessvs.Lat.png\")\n",
    "plt.show()\n",
    "\n",
    "print(\"My Analysis\")"
   ]
  },
  {
   "cell_type": "markdown",
   "metadata": {},
   "source": [
    "####  Northern Hemisphere - Wind Speed (mph) vs. Latitude Linear Regression"
   ]
  },
  {
   "cell_type": "code",
   "execution_count": 134,
   "metadata": {},
   "outputs": [
    {
     "name": "stdout",
     "output_type": "stream",
     "text": [
      "Regression line equation is: y= 0.05x+ 5.17\n",
      "The r-squared is: 0.038335320716949534\n"
     ]
    },
    {
     "data": {
      "image/png": "[encoded data removed]",
      "text/plain": [
       "<Figure size 432x288 with 1 Axes>"
      ]
     },
     "metadata": {
      "needs_background": "light"
     },
     "output_type": "display_data"
    },
    {
     "name": "stdout",
     "output_type": "stream",
     "text": [
      "My Analysis\n"
     ]
    }
   ],
   "source": [
    "#Run Linear Regression Data\n",
    "x_values = northern_df[\"lat\"]\n",
    "y_values = northern_df[\"wind\"]\n",
    "\n",
    "(slope, intercept, rvalue, pbalue, stderr) = linregress(x_values, y_values)\n",
    "\n",
    "regress_values = x_values * slope + intercept\n",
    "line_eq = \"y= \" + str(round(slope,2)) + \"x+ \" + str(round(intercept,2))\n",
    "\n",
    "#Plot scatter plot\n",
    "plt.scatter(x_values,y_values)\n",
    "\n",
    "#Plot regression line\n",
    "plt.plot(x_values,regress_values,\"r--\")\n",
    "plt.annotate(line_eq,(0,50), fontsize = 10, color = \"red\")\n",
    "\n",
    "#Title & Axis labels\n",
    "plt.title(\"Northern Hemisphere - Wind Speed (mph) vs. Latitude\")\n",
    "plt.xlabel(\"Latitude\")\n",
    "plt.ylabel(\"Wind Speed (mph)\")\n",
    "\n",
    "print(f\"Regression line equation is: {line_eq}\")\n",
    "print(f\"The r-squared is: {rvalue**2}\")\n",
    "\n",
    "plt.savefig(\"Pics/NorthernHem_WindSpeedvs.Lat.png\")\n",
    "plt.show()\n",
    "\n",
    "print(\"My Analysis\")"
   ]
  },
  {
   "cell_type": "markdown",
   "metadata": {},
   "source": [
    "####  Southern Hemisphere - Wind Speed (mph) vs. Latitude Linear Regression"
   ]
  },
  {
   "cell_type": "code",
   "execution_count": 135,
   "metadata": {},
   "outputs": [
    {
     "name": "stdout",
     "output_type": "stream",
     "text": [
      "Regression line equation is: y= -0.11x+ 5.65\n",
      "The r-squared is: 0.08125124866635819\n"
     ]
    },
    {
     "data": {
      "image/png": "[encoded data removed]",
      "text/plain": [
       "<Figure size 432x288 with 1 Axes>"
      ]
     },
     "metadata": {
      "needs_background": "light"
     },
     "output_type": "display_data"
    },
    {
     "name": "stdout",
     "output_type": "stream",
     "text": [
      "My Analysis\n"
     ]
    }
   ],
   "source": [
    "#Run Linear Regression Data\n",
    "x_values = southern_df[\"lat\"]\n",
    "y_values = southern_df[\"wind\"]\n",
    "\n",
    "(slope, intercept, rvalue, pbalue, stderr) = linregress(x_values, y_values)\n",
    "\n",
    "regress_values = x_values * slope + intercept\n",
    "line_eq = \"y= \" + str(round(slope,2)) + \"x+ \" + str(round(intercept,2))\n",
    "\n",
    "#Plot scatter plot\n",
    "plt.scatter(x_values,y_values)\n",
    "\n",
    "#Plot regression line\n",
    "plt.plot(x_values,regress_values,\"r--\")\n",
    "plt.annotate(line_eq,(0,50), fontsize = 10, color = \"red\")\n",
    "\n",
    "#Title & Axis labels\n",
    "plt.title(\"Southern Hemisphere - Wind Speed (mph) vs. Latitude\")\n",
    "plt.xlabel(\"Latitude\")\n",
    "plt.ylabel(\"Wind Speed (mph)\")\n",
    "\n",
    "print(f\"Regression line equation is: {line_eq}\")\n",
    "print(f\"The r-squared is: {rvalue**2}\")\n",
    "\n",
    "plt.savefig(\"Pics/SouthernHem_WindSpeedvs.Lat.png\")\n",
    "plt.show()\n",
    "\n",
    "print(\"My Analysis\")"
   ]
  }
 ],
 "metadata": {
  "anaconda-cloud": {},
  "kernel_info": {
   "name": "python3"
  },
  "kernelspec": {
   "display_name": "Python [conda env:PythonData]",
   "language": "python",
   "name": "conda-env-PythonData-py"
  },
  "language_info": {
   "codemirror_mode": {
    "name": "ipython",
    "version": 3
   },
   "file_extension": ".py",
   "mimetype": "text/x-python",
   "name": "python",
   "nbconvert_exporter": "python",
   "pygments_lexer": "ipython3",
   "version": "3.7.1"
  },
  "latex_envs": {
   "LaTeX_envs_menu_present": true,
   "autoclose": false,
   "autocomplete": true,
   "bibliofile": "biblio.bib",
   "cite_by": "apalike",
   "current_citInitial": 1,
   "eqLabelWithNumbers": true,
   "eqNumInitial": 1,
   "hotkeys": {
    "equation": "Ctrl-E",
    "itemize": "Ctrl-I"
   },
   "labels_anchors": false,
   "latex_user_defs": false,
   "report_style_numbering": false,
   "user_envs_cfg": false
  },
  "nteract": {
   "version": "0.12.3"
  }
 },
 "nbformat": 4,
 "nbformat_minor": 2
}
